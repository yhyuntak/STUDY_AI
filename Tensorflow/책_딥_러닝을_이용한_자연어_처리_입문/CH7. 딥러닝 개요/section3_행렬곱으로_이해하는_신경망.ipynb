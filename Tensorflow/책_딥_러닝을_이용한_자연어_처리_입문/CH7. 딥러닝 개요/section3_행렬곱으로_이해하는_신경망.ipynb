{
 "cells": [
  {
   "cell_type": "markdown",
   "id": "1e3268b2",
   "metadata": {},
   "source": [
    "# 2. 행렬곱으로 순전파 이해하기"
   ]
  },
  {
   "cell_type": "code",
   "execution_count": 5,
   "id": "50b1e6b5",
   "metadata": {},
   "outputs": [],
   "source": [
    "from tensorflow.keras.models import Sequential\n",
    "from tensorflow.keras.layers import Dense\n",
    "\n",
    "model = Sequential()\n",
    "\n",
    "# 3개의 입력과 2개의 출력\n",
    "model.add(Dense(2, input_dim=3, activation='softmax'))"
   ]
  },
  {
   "cell_type": "code",
   "execution_count": 6,
   "id": "f37c37f5",
   "metadata": {},
   "outputs": [
    {
     "name": "stdout",
     "output_type": "stream",
     "text": [
      "Model: \"sequential\"\n",
      "_________________________________________________________________\n",
      " Layer (type)                Output Shape              Param #   \n",
      "=================================================================\n",
      " dense (Dense)               (None, 2)                 8         \n",
      "                                                                 \n",
      "=================================================================\n",
      "Total params: 8\n",
      "Trainable params: 8\n",
      "Non-trainable params: 0\n",
      "_________________________________________________________________\n"
     ]
    }
   ],
   "source": [
    "model.summary()"
   ]
  },
  {
   "cell_type": "markdown",
   "id": "abf26240",
   "metadata": {},
   "source": [
    "# 4. 행렬곱으로 다층 퍼셉트론의 순전파 이해하기\n",
    "\n",
    "간단하게 3개의 layer를 깐다고 가정하자. \n",
    "그럼 Dense layer를 3개를 사용할텐데, 어떻게 구성되는지, 파라미터들의 개수는 어떻게 계산하는지 아래에 적어두었다.\n",
    "\n",
    "* 4개의 입력과 8개의 출력 -> param : 8*4(weights)+8(bias)<br/>\n",
    "    model.add(Dense(8, input_dim=4, activation='relu'))<br/>\n",
    "\n",
    "* 앞단의 8개의 출력을 입력으로, 그리고 8개의 출력 내기 -> param : 8*8(weights)+8(bias)<br/>\n",
    "    model.add(Dense(8, activation='relu'))<br/>\n",
    "\n",
    "* 앞단의 8개의 출력을 입력으로, 그리고 3개의 출력 내기 -> param : 8*3(weights)+3(bias)<br/>\n",
    "    model.add(Dense(3, activation='softmax'))<br/>"
   ]
  },
  {
   "cell_type": "code",
   "execution_count": 7,
   "id": "a630d1eb",
   "metadata": {},
   "outputs": [],
   "source": [
    "from tensorflow.keras.models import Sequential\n",
    "from tensorflow.keras.layers import Dense\n",
    "\n",
    "model = Sequential()\n",
    "\n",
    "# 4개의 입력과 8개의 출력 -> param : 8*4(weights)+8(bias)\n",
    "model.add(Dense(8, input_dim=4, activation='relu'))\n",
    "\n",
    "# 앞단의 8개의 출력을 입력으로, 그리고 8개의 출력 내기 -> param : 8*8(weights)+8(bias)\n",
    "model.add(Dense(8, activation='relu'))\n",
    "\n",
    "# 앞단의 8개의 출력을 입력으로, 그리고 3개의 출력 내기 -> param : 8*3(weights)+3(bias)\n",
    "model.add(Dense(3, activation='softmax'))"
   ]
  },
  {
   "cell_type": "code",
   "execution_count": 8,
   "id": "da5b1249",
   "metadata": {},
   "outputs": [
    {
     "name": "stdout",
     "output_type": "stream",
     "text": [
      "Model: \"sequential_1\"\n",
      "_________________________________________________________________\n",
      " Layer (type)                Output Shape              Param #   \n",
      "=================================================================\n",
      " dense_1 (Dense)             (None, 8)                 40        \n",
      "                                                                 \n",
      " dense_2 (Dense)             (None, 8)                 72        \n",
      "                                                                 \n",
      " dense_3 (Dense)             (None, 3)                 27        \n",
      "                                                                 \n",
      "=================================================================\n",
      "Total params: 139\n",
      "Trainable params: 139\n",
      "Non-trainable params: 0\n",
      "_________________________________________________________________\n"
     ]
    }
   ],
   "source": [
    "model.summary() "
   ]
  },
  {
   "cell_type": "code",
   "execution_count": null,
   "id": "a59157ad",
   "metadata": {},
   "outputs": [],
   "source": []
  },
  {
   "cell_type": "code",
   "execution_count": null,
   "id": "b1a336cd",
   "metadata": {},
   "outputs": [],
   "source": []
  }
 ],
 "metadata": {
  "kernelspec": {
   "display_name": "Python 3",
   "language": "python",
   "name": "python3"
  },
  "language_info": {
   "codemirror_mode": {
    "name": "ipython",
    "version": 3
   },
   "file_extension": ".py",
   "mimetype": "text/x-python",
   "name": "python",
   "nbconvert_exporter": "python",
   "pygments_lexer": "ipython3",
   "version": "3.8.10"
  }
 },
 "nbformat": 4,
 "nbformat_minor": 5
}
