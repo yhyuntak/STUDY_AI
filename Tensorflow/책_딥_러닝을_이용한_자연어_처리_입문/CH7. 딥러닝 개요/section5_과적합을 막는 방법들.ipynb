{
 "cells": [
  {
   "cell_type": "markdown",
   "id": "3d2a7f1f",
   "metadata": {},
   "source": [
    "과적합을 막는 방법들 중 대표적인 4개를 살펴본다.\n",
    "\n",
    "# 1. 데이터 양 늘리기\n",
    "---\n",
    "\n",
    "사실 이건 너무 당연한 얘기인데, 데이터의 양이 적다면 그 자체만을 그것으로 인지하고 약간의 변화만 주어도 올바른 결과를 출력할 수 없다. 따라서 한 물체 혹은 단어더라도 다양한 데이터를 많이 추가해줘야 일반화가 가능하다.\n",
    "\n",
    "<br/>\n",
    "\n",
    "# 2. 모델의 복잡도 줄이기\n",
    "---\n",
    "\n",
    "\n",
    "|![그림 1](./images/Overfitting.png)|\n",
    "|:--:|\n",
    "| 그림 1 (출처:[링크](https://en.wikipedia.org/wiki/Overfitting))|\n",
    "\n",
    "\n",
    "\n",
    "\n",
    "데이터 수는 적은데, 모델이 과도하게 복잡하다면 (다른 말로는 너무 깊다면) 데이터의 추세 혹은 경향을 일반적으로 따라가는 것이 아니라 세세한 포인트까지 과하게 쫓아가게 된다. 그림 1을 보면 초록색 라인은 너무 과한 복잡도(고차원 혹은 깊은 layers)로 인해 일반화가 잘 되어있지 않은 모습이다. 우리는 복잡도를 줄여서 **파란색 라인**처럼 일반화된 성능을 가진 모델을 만들어야한다.\n",
    "\n",
    "<br/>\n",
    "\n",
    "# 3. 가중치 규제(regularization)\n",
    "---\n",
    "\n",
    "하지만 모델의 복잡도는 여전히 과하게 유지하고 싶다면, 우린 가중치를 규제함으로써 과적합을 피할 수 있다. L1,L2 regularization이 대표적이다.\n",
    "\n",
    "L1은 $\\lambda |w|$를 손실함수 항에 추가하여 최소화 시키므로, 예측에 불필요한 특징들과 결합되는 가중치의 값을 0에 가깝게 수렴시켜주어, 어떤 파라미터들이 핵심적인 기능을 하는지 파악하는데 효과적이다.\n",
    "\n",
    "```python\n",
    "\n",
    "regularizer=tf.keras.regularizers.l1(lambd)\n",
    "\n",
    "```\n",
    "\n",
    "L2은 $\\frac{\\lambda}{2}w^2$를 손실함수 항에 추가하여 최소화 시키므로, 가중치의 제곱 값을 0에 가깝게 수렴시켜준다. L1과 달리 아예 0으로 만드는 것이 아니다. 책에 따르면, L2가 더 잘 작동하므로 L1의 특수성이 목적이 아니면, L2를 주로 사용하라고 권장한다.\n",
    "\n",
    "```python\n",
    "\n",
    "regularizer=tf.keras.regularizers.l1(lambd)\n",
    "\n",
    "```\n",
    "\n",
    "# 4. Dropout\n",
    "\n",
    "드롭아웃은 학습 시 인공 신경망이 특정 뉴런 또는 조합에 의존적이게 되는 것을 방지해준다. 매번 뉴런들을 비율에 따라 랜덤 선택하며 학습을 진행하기 때문에 마치 **앙상블 학습**을 하는 것과 같은 효과를 내서 과적합을 방지한다. 한가지 주의할 점은, **학습할 때만 사용하고, 예측할때는 사용하지 않는 것**이다. 사용법은 다음과 같다. \n"
   ]
  },
  {
   "cell_type": "code",
   "execution_count": 7,
   "id": "1a7108f5",
   "metadata": {},
   "outputs": [],
   "source": [
    "\n",
    "from tensorflow.keras.models import Sequential\n",
    "from tensorflow.keras.layers import Dropout, Dense\n",
    "\n",
    "max_words = 10000\n",
    "num_classes = 46\n",
    "\n",
    "model = Sequential()\n",
    "model.add(Dense(256, input_shape=(max_words,), activation='relu'))\n",
    "model.add(Dropout(0.5)) # 드롭아웃 추가. 비율은 50%\n",
    "model.add(Dense(128, activation='relu'))\n",
    "model.add(Dropout(0.5)) # 드롭아웃 추가. 비율은 50%\n",
    "model.add(Dense(num_classes, activation='softmax'))"
   ]
  },
  {
   "cell_type": "code",
   "execution_count": 8,
   "id": "694182ec",
   "metadata": {},
   "outputs": [
    {
     "name": "stdout",
     "output_type": "stream",
     "text": [
      "Model: \"sequential_2\"\n",
      "_________________________________________________________________\n",
      " Layer (type)                Output Shape              Param #   \n",
      "=================================================================\n",
      " dense_6 (Dense)             (None, 256)               2560256   \n",
      "                                                                 \n",
      " dropout_2 (Dropout)         (None, 256)               0         \n",
      "                                                                 \n",
      " dense_7 (Dense)             (None, 128)               32896     \n",
      "                                                                 \n",
      " dropout_3 (Dropout)         (None, 128)               0         \n",
      "                                                                 \n",
      " dense_8 (Dense)             (None, 46)                5934      \n",
      "                                                                 \n",
      "=================================================================\n",
      "Total params: 2,599,086\n",
      "Trainable params: 2,599,086\n",
      "Non-trainable params: 0\n",
      "_________________________________________________________________\n",
      "None\n"
     ]
    }
   ],
   "source": [
    "print(model.summary())"
   ]
  }
 ],
 "metadata": {
  "kernelspec": {
   "display_name": "Python 3",
   "language": "python",
   "name": "python3"
  },
  "language_info": {
   "codemirror_mode": {
    "name": "ipython",
    "version": 3
   },
   "file_extension": ".py",
   "mimetype": "text/x-python",
   "name": "python",
   "nbconvert_exporter": "python",
   "pygments_lexer": "ipython3",
   "version": "3.8.10"
  }
 },
 "nbformat": 4,
 "nbformat_minor": 5
}
