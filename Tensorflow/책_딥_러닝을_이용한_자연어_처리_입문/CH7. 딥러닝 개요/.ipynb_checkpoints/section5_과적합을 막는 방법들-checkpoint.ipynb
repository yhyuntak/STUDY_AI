{
 "cells": [
  {
   "attachments": {},
   "cell_type": "markdown",
   "id": "2f6940fa",
   "metadata": {},
   "source": [
    "과적합을 막는 방법들 중 대표적인 4개를 살펴본다.\n",
    "\n",
    "# 1. 데이터 양 늘리기\n",
    "---\n",
    "\n",
    "사실 이건 너무 당연한 얘기인데, 데이터의 양이 적다면 그 자체만을 그것으로 인지하고 약간의 변화만 주어도 올바른 결과를 출력할 수 없다. 따라서 한 물체 혹은 단어더라도 다양한 데이터를 많이 추가해줘야 일반화가 가능하다.\n",
    "\n",
    "<br/>\n",
    "\n",
    "# 2. 모델의 복잡도 줄이기\n",
    "---\n",
    "\n",
    "데이터 수는 적은데, 모델이 과도하게 복잡하다면 (다른 말로는 너무 깊다면) 데이터의 추세 혹은 경향을 일반적으로 따라가는 것이 아니라 세세한 포인트까지 과하게 쫓아가게 된다. 가장 큰 예시가 \n",
    "\n",
    "regularizer=tf.keras.regularizers.l2(lambd)"
   ]
  }
 ],
 "metadata": {
  "kernelspec": {
   "display_name": "Python 3",
   "language": "python",
   "name": "python3"
  },
  "language_info": {
   "codemirror_mode": {
    "name": "ipython",
    "version": 3
   },
   "file_extension": ".py",
   "mimetype": "text/x-python",
   "name": "python",
   "nbconvert_exporter": "python",
   "pygments_lexer": "ipython3",
   "version": "3.8.10"
  }
 },
 "nbformat": 4,
 "nbformat_minor": 5
}
