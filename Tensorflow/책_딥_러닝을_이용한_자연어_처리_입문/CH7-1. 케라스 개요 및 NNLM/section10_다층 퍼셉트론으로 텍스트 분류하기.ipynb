{
 "cells": [
  {
   "cell_type": "markdown",
   "id": "bd392454",
   "metadata": {},
   "source": [
    "\n",
    "\n",
    "# 1. 다층 퍼셉트론(MultiLayer Perceptron, MLP)\n",
    "---\n",
    "\n",
    "MLP를 통해서 텍스트 분류를 수행해보자\n",
    "\n",
    "<br/><br/>\n",
    "\n",
    "# 2. 케라스의 texts_to_matrix() 이해하기\n",
    "---\n",
    "\n",
    "다음 예시를 통해 Tokenizer의 texts_to_matrix()를 이해해보자.\n",
    "먼저 설명부터 하자면, Tokenizer에 학습된 단어 집합들로 텍스트 데이터들을 4개의 mode에 따라 행렬화 해주는 기능을 한다.\n",
    "\n",
    "예시를 보자.\n"
   ]
  },
  {
   "cell_type": "code",
   "execution_count": 1,
   "id": "33821f80",
   "metadata": {},
   "outputs": [
    {
     "name": "stdout",
     "output_type": "stream",
     "text": [
      "정수 인덱싱 :  {'바나나': 1, '먹고': 2, '싶은': 3, '사과': 4, '길고': 5, '노란': 6, '저는': 7, '과일이': 8, '좋아요': 9}\n"
     ]
    }
   ],
   "source": [
    "import numpy as np\n",
    "from tensorflow.keras.preprocessing.text import Tokenizer\n",
    "texts = ['먹고 싶은 사과', '먹고 싶은 바나나', '길고 노란 바나나 바나나', '저는 과일이 좋아요']\n",
    "tokenizer = Tokenizer()\n",
    "tokenizer.fit_on_texts(texts)\n",
    "print(\"정수 인덱싱 : \",tokenizer.word_index) \n"
   ]
  },
  {
   "cell_type": "code",
   "execution_count": 2,
   "id": "f922c46f",
   "metadata": {},
   "outputs": [
    {
     "name": "stdout",
     "output_type": "stream",
     "text": [
      "[[0. 0. 1. 1. 1. 0. 0. 0. 0. 0.]\n",
      " [0. 1. 1. 1. 0. 0. 0. 0. 0. 0.]\n",
      " [0. 2. 0. 0. 0. 1. 1. 0. 0. 0.]\n",
      " [0. 0. 0. 0. 0. 0. 0. 1. 1. 1.]]\n"
     ]
    }
   ],
   "source": [
    "# mode = 'count' : 단어의 출현 빈도수를 카운트함.\n",
    "print(tokenizer.texts_to_matrix(texts, mode = 'count')) "
   ]
  },
  {
   "cell_type": "code",
   "execution_count": 3,
   "id": "6937f466",
   "metadata": {},
   "outputs": [
    {
     "name": "stdout",
     "output_type": "stream",
     "text": [
      "[[0. 0. 1. 1. 1. 0. 0. 0. 0. 0.]\n",
      " [0. 1. 1. 1. 0. 0. 0. 0. 0. 0.]\n",
      " [0. 1. 0. 0. 0. 1. 1. 0. 0. 0.]\n",
      " [0. 0. 0. 0. 0. 0. 0. 1. 1. 1.]]\n"
     ]
    }
   ],
   "source": [
    "# mode = 'binary' : 단어의 존재 유무를 표현함.\n",
    "print(tokenizer.texts_to_matrix(texts, mode = 'binary')) "
   ]
  },
  {
   "cell_type": "markdown",
   "id": "3c812263",
   "metadata": {},
   "source": [
    "TF-IDF가 기억이 나지 않아서 한번 간단히 요약한다. 식은 외울 필요는 없고 **값이 가지는 의미를 기억하자.**\n",
    "> TF-IDF는 모든 문서에서 자주 등장하는 단어는 중요도가 낮다고 판단하며, 특정 문서에서만 자주 등장하는 단어는 중요도가 높다고 판단한다. TF-IDF 값이 낮으면 중요도가 낮은 것이며, TF-IDF 값이 크면 중요도가 큰 것이다."
   ]
  },
  {
   "cell_type": "code",
   "execution_count": 4,
   "id": "eadc03c1",
   "metadata": {},
   "outputs": [
    {
     "name": "stdout",
     "output_type": "stream",
     "text": [
      "[[0.   0.   0.85 0.85 1.1  0.   0.   0.   0.   0.  ]\n",
      " [0.   0.85 0.85 0.85 0.   0.   0.   0.   0.   0.  ]\n",
      " [0.   1.43 0.   0.   0.   1.1  1.1  0.   0.   0.  ]\n",
      " [0.   0.   0.   0.   0.   0.   0.   1.1  1.1  1.1 ]]\n"
     ]
    }
   ],
   "source": [
    "# mode = 'tfidf' : 단어의 중요도를 표현함. 단어가 전체 문서에서 적게 등장할 수록 값이 커짐. 즉, 중요도가 높다는 뜻.\n",
    "print(tokenizer.texts_to_matrix(texts, mode = 'tfidf').round(2)) "
   ]
  },
  {
   "cell_type": "code",
   "execution_count": 5,
   "id": "2babfe74",
   "metadata": {},
   "outputs": [
    {
     "name": "stdout",
     "output_type": "stream",
     "text": [
      "[[0.   0.   0.33 0.33 0.33 0.   0.   0.   0.   0.  ]\n",
      " [0.   0.33 0.33 0.33 0.   0.   0.   0.   0.   0.  ]\n",
      " [0.   0.5  0.   0.   0.   0.25 0.25 0.   0.   0.  ]\n",
      " [0.   0.   0.   0.   0.   0.   0.   0.33 0.33 0.33]]\n"
     ]
    }
   ],
   "source": [
    "# mode = 'freq' : 각 문서에서 단어의 등장 횟수를 분자로, 각 문서의 크기(단어의 수)를 분모로 해서 표현한 빈도 수 \n",
    "print(tokenizer.texts_to_matrix(texts, mode = 'freq').round(2)) "
   ]
  },
  {
   "cell_type": "markdown",
   "id": "4af9031e",
   "metadata": {},
   "source": [
    "<br/><br/>\n",
    "\n",
    "# 3. 20개 뉴스 그룹(Twenty Newsgroups) 데이터에 대한 이해\n",
    "---\n",
    "\n",
    "사이킷런에서는 20개의 다른 주제를 가진 18,846개의 뉴스 그룹 이메일 데이터를 제공해준다. 파라미터 subset의 값으로 'all'을 넣으면 전체 데이터인 18,846개의 샘플을 다운로드할 수 있으며, 'train'을 넣으면 훈련 데이터를, 'test'를 넣으면 테스트 데이터를 다운로드할 수 있다.\n"
   ]
  },
  {
   "cell_type": "code",
   "execution_count": 6,
   "id": "0b25ba71",
   "metadata": {},
   "outputs": [
    {
     "name": "stdout",
     "output_type": "stream",
     "text": [
      "dict_keys(['data', 'filenames', 'target_names', 'target', 'DESCR'])\n",
      "\n",
      "훈련용 샘플의 개수 : 11314\n",
      "총 주제의 개수 : 20\n",
      "['alt.atheism', 'comp.graphics', 'comp.os.ms-windows.misc', 'comp.sys.ibm.pc.hardware', 'comp.sys.mac.hardware', 'comp.windows.x', 'misc.forsale', 'rec.autos', 'rec.motorcycles', 'rec.sport.baseball', 'rec.sport.hockey', 'sci.crypt', 'sci.electronics', 'sci.med', 'sci.space', 'soc.religion.christian', 'talk.politics.guns', 'talk.politics.mideast', 'talk.politics.misc', 'talk.religion.misc']\n"
     ]
    }
   ],
   "source": [
    "import pandas as pd\n",
    "from sklearn.datasets import fetch_20newsgroups\n",
    "\n",
    "newsdata = fetch_20newsgroups(subset = 'train') # 'train'을 기재하면 훈련 데이터만 리턴한다.\n",
    "print(newsdata.keys())\n",
    "print()\n",
    "print('훈련용 샘플의 개수 : {}'.format(len(newsdata.data)))\n",
    "print('총 주제의 개수 : {}'.format(len(newsdata.target_names)))\n",
    "print(newsdata.target_names)"
   ]
  },
  {
   "cell_type": "markdown",
   "id": "2ec62516",
   "metadata": {},
   "source": [
    "### 이번 실습의 목적은 **테스트 데이터에서 이메일 본문을 보고 20개의 주제 중 어떤 주제인지를 맞추는 것**이다. \n",
    "\n",
    "먼저 첫번째 샘플의 정보를 확인해보자."
   ]
  },
  {
   "cell_type": "code",
   "execution_count": 7,
   "id": "f6b60525",
   "metadata": {},
   "outputs": [
    {
     "name": "stdout",
     "output_type": "stream",
     "text": [
      "--------------------\n",
      "# 첫번째 샘플의 데이터\n",
      "\n",
      "From: lerxst@wam.umd.edu (where's my thing)\n",
      "Subject: WHAT car is this!?\n",
      "Nntp-Posting-Host: rac3.wam.umd.edu\n",
      "Organization: University of Maryland, College Park\n",
      "Lines: 15\n",
      "\n",
      " I was wondering if anyone out there could enlighten me on this car I saw\n",
      "the other day. It was a 2-door sports car, looked to be from the late 60s/\n",
      "early 70s. It was called a Bricklin. The doors were really small. In addition,\n",
      "the front bumper was separate from the rest of the body. This is \n",
      "all I know. If anyone can tellme a model name, engine specs, years\n",
      "of production, where this car is made, history, or whatever info you\n",
      "have on this funky looking car, please e-mail.\n",
      "\n",
      "Thanks,\n",
      "- IL\n",
      "   ---- brought to you by your neighborhood Lerxst ----\n",
      "\n",
      "\n",
      "\n",
      "\n",
      "\n",
      "# 첫번째 샘플의 타겟 :  7\n",
      "# 첫번째 샘플의 타겟의 주제 :  rec.autos\n",
      "--------------------\n"
     ]
    }
   ],
   "source": [
    "print(\"-\"*20)\n",
    "print(\"# 첫번째 샘플의 데이터\")\n",
    "print()\n",
    "print(newsdata.data[0])\n",
    "\n",
    "print(\"# 첫번째 샘플의 타겟 : \",newsdata.target[0])\n",
    "print(\"# 첫번째 샘플의 타겟의 주제 : \",newsdata.target_names[newsdata.target[0]])\n",
    "\n",
    "print(\"-\"*20)"
   ]
  },
  {
   "cell_type": "markdown",
   "id": "be8c0f5b",
   "metadata": {},
   "source": [
    "### 본격적으로 학습에 돌입하기 위해 데이터 프레임을 생성하자."
   ]
  },
  {
   "cell_type": "code",
   "execution_count": 8,
   "id": "b8ccdec0",
   "metadata": {},
   "outputs": [
    {
     "data": {
      "text/html": [
       "<div>\n",
       "<style scoped>\n",
       "    .dataframe tbody tr th:only-of-type {\n",
       "        vertical-align: middle;\n",
       "    }\n",
       "\n",
       "    .dataframe tbody tr th {\n",
       "        vertical-align: top;\n",
       "    }\n",
       "\n",
       "    .dataframe thead th {\n",
       "        text-align: right;\n",
       "    }\n",
       "</style>\n",
       "<table border=\"1\" class=\"dataframe\">\n",
       "  <thead>\n",
       "    <tr style=\"text-align: right;\">\n",
       "      <th></th>\n",
       "      <th>email</th>\n",
       "      <th>target</th>\n",
       "    </tr>\n",
       "  </thead>\n",
       "  <tbody>\n",
       "    <tr>\n",
       "      <th>0</th>\n",
       "      <td>From: lerxst@wam.umd.edu (where's my thing)\\nS...</td>\n",
       "      <td>7</td>\n",
       "    </tr>\n",
       "    <tr>\n",
       "      <th>1</th>\n",
       "      <td>From: guykuo@carson.u.washington.edu (Guy Kuo)...</td>\n",
       "      <td>4</td>\n",
       "    </tr>\n",
       "    <tr>\n",
       "      <th>2</th>\n",
       "      <td>From: twillis@ec.ecn.purdue.edu (Thomas E Will...</td>\n",
       "      <td>4</td>\n",
       "    </tr>\n",
       "    <tr>\n",
       "      <th>3</th>\n",
       "      <td>From: jgreen@amber (Joe Green)\\nSubject: Re: W...</td>\n",
       "      <td>1</td>\n",
       "    </tr>\n",
       "    <tr>\n",
       "      <th>4</th>\n",
       "      <td>From: jcm@head-cfa.harvard.edu (Jonathan McDow...</td>\n",
       "      <td>14</td>\n",
       "    </tr>\n",
       "  </tbody>\n",
       "</table>\n",
       "</div>"
      ],
      "text/plain": [
       "                                               email  target\n",
       "0  From: lerxst@wam.umd.edu (where's my thing)\\nS...       7\n",
       "1  From: guykuo@carson.u.washington.edu (Guy Kuo)...       4\n",
       "2  From: twillis@ec.ecn.purdue.edu (Thomas E Will...       4\n",
       "3  From: jgreen@amber (Joe Green)\\nSubject: Re: W...       1\n",
       "4  From: jcm@head-cfa.harvard.edu (Jonathan McDow...      14"
      ]
     },
     "execution_count": 8,
     "metadata": {},
     "output_type": "execute_result"
    }
   ],
   "source": [
    "data = pd.DataFrame(newsdata.data, columns = ['email'])\n",
    "data['target'] = pd.Series(newsdata.target)\n",
    "data[:5]"
   ]
  },
  {
   "cell_type": "markdown",
   "id": "2bdd4bb9",
   "metadata": {},
   "source": [
    "### 항상 데이터를 확인하는 습관을 갖자."
   ]
  },
  {
   "cell_type": "code",
   "execution_count": 9,
   "id": "6bcafd15",
   "metadata": {},
   "outputs": [
    {
     "name": "stdout",
     "output_type": "stream",
     "text": [
      "<class 'pandas.core.frame.DataFrame'>\n",
      "RangeIndex: 11314 entries, 0 to 11313\n",
      "Data columns (total 2 columns):\n",
      " #   Column  Non-Null Count  Dtype \n",
      "---  ------  --------------  ----- \n",
      " 0   email   11314 non-null  object\n",
      " 1   target  11314 non-null  int64 \n",
      "dtypes: int64(1), object(1)\n",
      "memory usage: 176.9+ KB\n"
     ]
    }
   ],
   "source": [
    "data.info()"
   ]
  },
  {
   "cell_type": "markdown",
   "id": "f4bb70c8",
   "metadata": {},
   "source": [
    "### null 값을 찾거나 중복이 있는지 확인하자."
   ]
  },
  {
   "cell_type": "code",
   "execution_count": 10,
   "id": "9f843652",
   "metadata": {},
   "outputs": [
    {
     "name": "stdout",
     "output_type": "stream",
     "text": [
      "False\n",
      "중복을 제외한 샘플의 수 : 11314\n",
      "중복을 제외한 주제의 수 : 20\n"
     ]
    }
   ],
   "source": [
    "# null 값 확인\n",
    "print(data.isnull().values.any())\n",
    "\n",
    "print('중복을 제외한 샘플의 수 : {}'.format(data['email'].nunique()))\n",
    "print('중복을 제외한 주제의 수 : {}'.format(data['target'].nunique()))"
   ]
  },
  {
   "cell_type": "markdown",
   "id": "bb8fd7d7",
   "metadata": {},
   "source": [
    "### 타겟의 분포를 시각화\n",
    "\n",
    "시각화 해보면 10번이 가장 많고, 19번이 가장 적은 것을 알 수 있다."
   ]
  },
  {
   "cell_type": "code",
   "execution_count": 11,
   "id": "5ec0be80",
   "metadata": {},
   "outputs": [
    {
     "data": {
      "image/png": "[encoded data removed]",
      "text/plain": [
       "<Figure size 432x288 with 1 Axes>"
      ]
     },
     "metadata": {
      "needs_background": "light"
     },
     "output_type": "display_data"
    }
   ],
   "source": [
    "import matplotlib.pyplot as plt\n",
    "data['target'].value_counts().plot(kind='bar');"
   ]
  },
  {
   "cell_type": "code",
   "execution_count": 12,
   "id": "13d3c5b8",
   "metadata": {},
   "outputs": [
    {
     "name": "stdout",
     "output_type": "stream",
     "text": [
      "    target  count\n",
      "0        0    480\n",
      "1        1    584\n",
      "2        2    591\n",
      "3        3    590\n",
      "4        4    578\n",
      "5        5    593\n",
      "6        6    585\n",
      "7        7    594\n",
      "8        8    598\n",
      "9        9    597\n",
      "10      10    600\n",
      "11      11    595\n",
      "12      12    591\n",
      "13      13    594\n",
      "14      14    593\n",
      "15      15    599\n",
      "16      16    546\n",
      "17      17    564\n",
      "18      18    465\n",
      "19      19    377\n"
     ]
    }
   ],
   "source": [
    "print(data.groupby('target').size().reset_index(name='count'))"
   ]
  },
  {
   "cell_type": "markdown",
   "id": "b75e030e",
   "metadata": {},
   "source": [
    "### 학습/테스트 데이터 셋 불러오기"
   ]
  },
  {
   "cell_type": "code",
   "execution_count": 13,
   "id": "8aa6ced0",
   "metadata": {},
   "outputs": [],
   "source": [
    "newsdata_test = fetch_20newsgroups(subset='test',shuffle=True)\n",
    "train_email = data['email']\n",
    "train_label = data['target']\n",
    "test_email = newsdata_test.data\n",
    "test_label = newsdata_test.target"
   ]
  },
  {
   "cell_type": "markdown",
   "id": "ef6b00b4",
   "metadata": {},
   "source": [
    "### Tokenizer로 전처리"
   ]
  },
  {
   "cell_type": "code",
   "execution_count": 14,
   "id": "996dce00",
   "metadata": {},
   "outputs": [],
   "source": [
    "from tensorflow.keras.preprocessing.text import Tokenizer\n",
    "from tensorflow.keras.utils import to_categorical\n",
    "\n",
    "vocab_size = 10000\n",
    "num_classes = 20\n",
    "\n",
    "def prepare_data(train_data,test_data,mode):\n",
    "    tokenizer=Tokenizer(num_words=vocab_size)\n",
    "    tokenizer.fit_on_texts(train_data)\n",
    "    X_train = tokenizer.texts_to_matrix(train_data,mode=mode)\n",
    "    X_test = tokenizer.texts_to_matrix(test_data,mode=mode)\n",
    "    \n",
    "    return X_train,X_test,tokenizer.index_word\n",
    "\n",
    "# 입력 텍스트 데이터들을 binary 모드로 matrix화 \n",
    "X_train, X_test, index_to_word = prepare_data(train_email, test_email, 'binary') \n",
    "\n",
    "# 레이블 데이터들을 원-핫 인코딩\n",
    "y_train = to_categorical(train_label, num_classes) # 원-핫 인코딩\n",
    "y_test = to_categorical(test_label, num_classes) # 원-핫 인코딩\n"
   ]
  },
  {
   "cell_type": "code",
   "execution_count": 15,
   "id": "34d6a8bb",
   "metadata": {},
   "outputs": [
    {
     "name": "stdout",
     "output_type": "stream",
     "text": [
      "훈련 샘플 본문의 크기 : (11314, 10000)\n",
      "훈련 샘플 레이블의 크기 : (11314, 20)\n",
      "테스트 샘플 본문의 크기 : (7532, 10000)\n",
      "테스트 샘플 레이블의 크기 : (7532, 20)\n",
      "빈도수 상위 1번 단어 : the\n",
      "빈도수 상위 9999번 단어 : mic\n"
     ]
    }
   ],
   "source": [
    "print('훈련 샘플 본문의 크기 : {}'.format(X_train.shape))\n",
    "print('훈련 샘플 레이블의 크기 : {}'.format(y_train.shape))\n",
    "print('테스트 샘플 본문의 크기 : {}'.format(X_test.shape))\n",
    "print('테스트 샘플 레이블의 크기 : {}'.format(y_test.shape))\n",
    "\n",
    "print('빈도수 상위 1번 단어 : {}'.format(index_to_word[1]))\n",
    "print('빈도수 상위 9999번 단어 : {}'.format(index_to_word[9999]))"
   ]
  },
  {
   "cell_type": "markdown",
   "id": "9edee9b8",
   "metadata": {},
   "source": [
    "<br/><br/>\n",
    "\n",
    "# 4. 다층 퍼셉트론(Multilayer Perceptron, MLP)을 사용하여 텍스트 분류하기\n",
    "---\n",
    "\n",
    "이제 MLP를 설계해보자."
   ]
  },
  {
   "cell_type": "code",
   "execution_count": 16,
   "id": "804fa1c7",
   "metadata": {},
   "outputs": [],
   "source": [
    "from tensorflow.keras.models import Sequential\n",
    "from tensorflow.keras.layers import Dense,Dropout\n",
    "def fit_and_eval(X_train,y_train,X_test,y_test):\n",
    "    model = Sequential()\n",
    "    model.add(Dense(256,input_shape=(vocab_size,),activation='relu'))\n",
    "    model.add(Dropout(0.5))\n",
    "    model.add(Dense(128, activation='relu'))\n",
    "    model.add(Dropout(0.5))\n",
    "    model.add(Dense(num_classes, activation='softmax'))\n",
    "    \n",
    "    model.compile(loss='categorical_crossentropy', optimizer='adam', metrics=['accuracy'])\n",
    "    model.fit(X_train, y_train, batch_size=128, epochs=5, verbose=1, validation_split=0.1)\n",
    "    score = model.evaluate(X_test, y_test, batch_size=128, verbose=0)\n",
    "    return score[1]\n"
   ]
  },
  {
   "cell_type": "code",
   "execution_count": 17,
   "id": "c999a0a1",
   "metadata": {},
   "outputs": [
    {
     "name": "stdout",
     "output_type": "stream",
     "text": [
      "Epoch 1/5\n",
      "80/80 [==============================] - 1s 5ms/step - loss: 2.2764 - accuracy: 0.3363 - val_loss: 0.9853 - val_accuracy: 0.8083\n",
      "Epoch 2/5\n",
      "80/80 [==============================] - 0s 5ms/step - loss: 0.8828 - accuracy: 0.7561 - val_loss: 0.4693 - val_accuracy: 0.8772\n",
      "Epoch 3/5\n",
      "80/80 [==============================] - 0s 4ms/step - loss: 0.4374 - accuracy: 0.8789 - val_loss: 0.3611 - val_accuracy: 0.9037\n",
      "Epoch 4/5\n",
      "80/80 [==============================] - 0s 4ms/step - loss: 0.2554 - accuracy: 0.9343 - val_loss: 0.3182 - val_accuracy: 0.9046\n",
      "Epoch 5/5\n",
      "80/80 [==============================] - 0s 4ms/step - loss: 0.1736 - accuracy: 0.9571 - val_loss: 0.3023 - val_accuracy: 0.9161\n",
      "binary 모드의 테스트 정확도: 0.829261839389801\n",
      "Epoch 1/5\n",
      "80/80 [==============================] - 1s 5ms/step - loss: 2.7417 - accuracy: 0.2407 - val_loss: 1.6786 - val_accuracy: 0.7412\n",
      "Epoch 2/5\n",
      "80/80 [==============================] - 0s 3ms/step - loss: 1.4879 - accuracy: 0.6209 - val_loss: 0.7804 - val_accuracy: 0.8489\n",
      "Epoch 3/5\n",
      "80/80 [==============================] - 0s 3ms/step - loss: 0.8349 - accuracy: 0.7926 - val_loss: 0.5382 - val_accuracy: 0.8640\n",
      "Epoch 4/5\n",
      "80/80 [==============================] - 0s 4ms/step - loss: 0.5670 - accuracy: 0.8607 - val_loss: 0.4588 - val_accuracy: 0.8887\n",
      "Epoch 5/5\n",
      "80/80 [==============================] - 0s 4ms/step - loss: 0.4035 - accuracy: 0.9017 - val_loss: 0.4370 - val_accuracy: 0.8931\n",
      "count 모드의 테스트 정확도: 0.8165162205696106\n",
      "Epoch 1/5\n",
      "80/80 [==============================] - 1s 5ms/step - loss: 2.2171 - accuracy: 0.3648 - val_loss: 0.7745 - val_accuracy: 0.8375\n",
      "Epoch 2/5\n",
      "80/80 [==============================] - 0s 3ms/step - loss: 0.8323 - accuracy: 0.7719 - val_loss: 0.4230 - val_accuracy: 0.8913\n",
      "Epoch 3/5\n",
      "80/80 [==============================] - 0s 3ms/step - loss: 0.4566 - accuracy: 0.8884 - val_loss: 0.3535 - val_accuracy: 0.9108\n",
      "Epoch 4/5\n",
      "80/80 [==============================] - 0s 3ms/step - loss: 0.2901 - accuracy: 0.9280 - val_loss: 0.3341 - val_accuracy: 0.9134\n",
      "Epoch 5/5\n",
      "80/80 [==============================] - 0s 4ms/step - loss: 0.2105 - accuracy: 0.9502 - val_loss: 0.3209 - val_accuracy: 0.9117\n",
      "tfidf 모드의 테스트 정확도: 0.8336431384086609\n",
      "Epoch 1/5\n",
      "80/80 [==============================] - 1s 5ms/step - loss: 2.9766 - accuracy: 0.1004 - val_loss: 2.9260 - val_accuracy: 0.2385\n",
      "Epoch 2/5\n",
      "80/80 [==============================] - 0s 4ms/step - loss: 2.7328 - accuracy: 0.2162 - val_loss: 2.4248 - val_accuracy: 0.3984\n",
      "Epoch 3/5\n",
      "80/80 [==============================] - 0s 3ms/step - loss: 2.1951 - accuracy: 0.3381 - val_loss: 1.8750 - val_accuracy: 0.5583\n",
      "Epoch 4/5\n",
      "80/80 [==============================] - 0s 4ms/step - loss: 1.7225 - accuracy: 0.4826 - val_loss: 1.4518 - val_accuracy: 0.6555\n",
      "Epoch 5/5\n",
      "80/80 [==============================] - 0s 4ms/step - loss: 1.3557 - accuracy: 0.5966 - val_loss: 1.1370 - val_accuracy: 0.7429\n",
      "freq 모드의 테스트 정확도: 0.6838821172714233\n"
     ]
    }
   ],
   "source": [
    "\n",
    "modes = ['binary', 'count', 'tfidf', 'freq'] # 4개의 모드를 리스트에 저장.\n",
    "\n",
    "for mode in modes: # 4개의 모드에 대해서 각각 아래의 작업을 반복한다.\n",
    "    X_train, X_test, _ = prepare_data(train_email, test_email, mode) # 모드에 따라서 데이터를 전처리\n",
    "    score = fit_and_eval(X_train, y_train, X_test, y_test) # 모델을 훈련하고 평가.\n",
    "    print(mode+' 모드의 테스트 정확도:', score)\n",
    "    "
   ]
  },
  {
   "cell_type": "code",
   "execution_count": null,
   "id": "c9160c03",
   "metadata": {},
   "outputs": [],
   "source": []
  }
 ],
 "metadata": {
  "kernelspec": {
   "display_name": "Python 3",
   "language": "python",
   "name": "python3"
  },
  "language_info": {
   "codemirror_mode": {
    "name": "ipython",
    "version": 3
   },
   "file_extension": ".py",
   "mimetype": "text/x-python",
   "name": "python",
   "nbconvert_exporter": "python",
   "pygments_lexer": "ipython3",
   "version": "3.8.10"
  }
 },
 "nbformat": 4,
 "nbformat_minor": 5
}
