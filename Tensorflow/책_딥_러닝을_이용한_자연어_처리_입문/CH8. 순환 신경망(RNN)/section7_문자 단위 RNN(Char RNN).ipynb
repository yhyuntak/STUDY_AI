{
 "cells": [
  {
   "cell_type": "markdown",
   "id": "e0efe183",
   "metadata": {},
   "source": [
    "지금까지 배운 RNN은 전부 입력과 출력의 단위가 단어 벡터였다. 하지만 입출력의 단위를 단어 레벨(word-level)에서 문자 레벨(character-level)로 변경해서 RNN을 구현할 수도 있다.\n",
    "\n",
    "![그림 1](./images/section7/그림_1.png)\n",
    "\n",
    "위의 그림은 문자 단위 RNN을 다 대 다(Many-to-Many) 구조로 구현한 경우, 다 대 일(Many-to-One) 구조로 구현한 경우 두 가지를 보여준다. 이번 세션에선  두 가지 모두 구현해볼 것이다. \n",
    "\n",
    "첫번째로 구현할 것은 다 대 다 구조를 이용한 언어 모델이다.\n",
    "\n",
    "# 1. 문자 단위 RNN 언어 모델(Char RNNLM)\n",
    "---\n",
    "\n",
    "이전 시점의 예측 문자를 다음 시점의 입력으로 사용하는 문자 단위 RNN 언어 모델을 구현해보자. 이전 세션에서 배운 단어 단위의 RNN 언어 모델과 다른 점은 **단어 단위가 아니라 문자 단위를 입, 출력으로 사용**하므로 **임베딩층(embedding layer)을 여기서는 사용하지 않는다.** 여기서는 언어 모델의 훈련 과정과 테스트 과정의 차이를 이해하는데 집중한다.\n",
    "\n",
    "다운로드 링크 : http://www.gutenberg.org/files/11/11-0.txt\n",
    "\n",
    "고전 소설들은 저작권에 보호받지 않으므로 무료로 다운받을 수 있다. 위의 링크에서 '이상한 나라의 앨리스(Alice’s Adventures in Wonderland)'라는 소설을 다운로드하자.\n",
    "\n",
    "## 1) 데이터에 대한 이해와 전처리\n",
    "\n",
    "먼저 데이터를 로드하고 특수문자를 제거하고 단어를 소문자화하는 간단한 전처리를 수행한다."
   ]
  },
  {
   "cell_type": "code",
   "execution_count": 1,
   "id": "f8574626",
   "metadata": {},
   "outputs": [],
   "source": [
    "import numpy as np\n",
    "import urllib.request\n",
    "from tensorflow.keras.utils import to_categorical\n",
    "\n",
    "# 데이터 로드\n",
    "urllib.request.urlretrieve(\"http://www.gutenberg.org/files/11/11-0.txt\", filename=\"11-0.txt\")\n",
    "\n",
    "f = open('11-0.txt', 'rb')\n",
    "sentences = []\n",
    "for sentence in f: # 데이터로부터 한 줄씩 읽는다.\n",
    "    sentence = sentence.strip() # strip()을 통해 \\r, \\n을 제거한다.\n",
    "    sentence = sentence.lower() # 소문자화.\n",
    "    sentence = sentence.decode('ascii', 'ignore') # \\xe2\\x80\\x99 등과 같은 바이트 열 제거\n",
    "    if len(sentence) > 0:\n",
    "        sentences.append(sentence)\n",
    "f.close()"
   ]
  },
  {
   "cell_type": "code",
   "execution_count": 2,
   "id": "6d1c7fff",
   "metadata": {},
   "outputs": [
    {
     "data": {
      "text/plain": [
       "['the project gutenberg ebook of alices adventures in wonderland, by lewis carroll',\n",
       " 'this ebook is for the use of anyone anywhere in the united states and',\n",
       " 'most other parts of the world at no cost and with almost no restrictions',\n",
       " 'whatsoever. you may copy it, give it away or re-use it under the terms',\n",
       " 'of the project gutenberg license included with this ebook or online at']"
      ]
     },
     "execution_count": 2,
     "metadata": {},
     "output_type": "execute_result"
    }
   ],
   "source": [
    "sentences[:5]"
   ]
  },
  {
   "cell_type": "markdown",
   "id": "6fff89c3",
   "metadata": {},
   "source": [
    "리스트의 원소는 문자열로 구성되어져 있는데, 이것들은 의미있게 문장 토큰화가 된 상태는 아니다. 이를 하나의 문자열로 통합해보자."
   ]
  },
  {
   "cell_type": "code",
   "execution_count": 5,
   "id": "be2ac7c3",
   "metadata": {},
   "outputs": [
    {
     "name": "stdout",
     "output_type": "stream",
     "text": [
      "문자열의 길이 또는 총 문자의 개수: 159484\n",
      "the project gutenberg ebook of alices adventures in wonderland, by lewis carroll this ebook is for t\n"
     ]
    }
   ],
   "source": [
    "total_data = ' '.join(sentences)\n",
    "print('문자열의 길이 또는 총 문자의 개수: %d' % len(total_data))\n",
    "print(total_data[:100])"
   ]
  },
  {
   "cell_type": "markdown",
   "id": "89832ce0",
   "metadata": {},
   "source": [
    "기존에는 중복을 제거한 단어들의 모음인 단어 집합(vocabulary)을 만들었으나, 이번에 만들 집합은 단어 집합이 아니라 문자 집합이다. 이 문자열로부터 문자 집합을 만들도록 하자. "
   ]
  },
  {
   "cell_type": "code",
   "execution_count": 7,
   "id": "cb44eeff",
   "metadata": {},
   "outputs": [
    {
     "name": "stdout",
     "output_type": "stream",
     "text": [
      "문자 집합의 크기 : 56\n",
      "Unique한 문자 집합 :  [' ', '!', '\"', '#', '$', '%', \"'\", '(', ')', '*', ',', '-', '.', '/', '0', '1', '2', '3', '4', '5', '6', '7', '8', '9', ':', ';', '?', '[', ']', '_', 'a', 'b', 'c', 'd', 'e', 'f', 'g', 'h', 'i', 'j', 'k', 'l', 'm', 'n', 'o', 'p', 'q', 'r', 's', 't', 'u', 'v', 'w', 'x', 'y', 'z']\n"
     ]
    }
   ],
   "source": [
    "char_vocab = sorted(list(set(total_data)))\n",
    "vocab_size = len(char_vocab)\n",
    "print('문자 집합의 크기 : {}'.format(vocab_size))\n",
    "print('Unique한 문자 집합 : ',char_vocab)"
   ]
  },
  {
   "cell_type": "markdown",
   "id": "0135dce9",
   "metadata": {},
   "source": [
    "영어가 훈련 데이터일 때 문자 집합의 크기는 단어 집합을 사용했을 경우보다 집합의 크기가 현저히 작다. 아무리 **훈련 코퍼스에 수십만 개 이상의 많은 영어 단어가 존재한다고 하더라도, 영어 단어를 표현하기 위해서 사용되는 문자는 26개의 알파벳뿐이기 때문**이다. 만약 훈련 데이터의 알파벳이 대, 소문자가 구분된 상태라고 하더라도 모든 영어 단어는 총 52개의 알파벳으로 표현 가능하다.\n",
    "\n",
    "어떤 방대한 양의 텍스트라도 집합의 크기를 적게 가져갈 수 있다는 것은 구현과 테스트를 굉장히 쉽게 할 수 있다는 이점을 가지므로, RNN의 동작 메커니즘 이해를 위한 토이 프로젝트 용도로 유용하다. 문자 집합의 각 문자에 정수를 부여하고 출력하자."
   ]
  },
  {
   "cell_type": "code",
   "execution_count": 15,
   "id": "9b221d3f",
   "metadata": {},
   "outputs": [
    {
     "name": "stdout",
     "output_type": "stream",
     "text": [
      "문자 집합 : {' ': 0, '!': 1, '\"': 2, '#': 3, '$': 4, '%': 5, \"'\": 6, '(': 7, ')': 8, '*': 9, ',': 10, '-': 11, '.': 12, '/': 13, '0': 14, '1': 15, '2': 16, '3': 17, '4': 18, '5': 19, '6': 20, '7': 21, '8': 22, '9': 23, ':': 24, ';': 25, '?': 26, '[': 27, ']': 28, '_': 29, 'a': 30, 'b': 31, 'c': 32, 'd': 33, 'e': 34, 'f': 35, 'g': 36, 'h': 37, 'i': 38, 'j': 39, 'k': 40, 'l': 41, 'm': 42, 'n': 43, 'o': 44, 'p': 45, 'q': 46, 'r': 47, 's': 48, 't': 49, 'u': 50, 'v': 51, 'w': 52, 'x': 53, 'y': 54, 'z': 55}\n"
     ]
    }
   ],
   "source": [
    "# 문자에 고유한 인덱스 부여\n",
    "char_to_index = dict((char, index) for index, char in enumerate(char_vocab))\n",
    "print('문자 집합 :',char_to_index)\n",
    "\n",
    "# 인덱스를 문자로\n",
    "index_to_char = {}\n",
    "for key, value in char_to_index.items():\n",
    "    index_to_char[value] = key"
   ]
  },
  {
   "cell_type": "markdown",
   "id": "dfc64d2d",
   "metadata": {},
   "source": [
    "정수 0부터 28까지는 공백을 포함한 각종 구두점, 특수문자가 존재하고, 정수 29부터 54까지는 a부터 z까지 총 26개의 알파벳 소문자가 문자 집합에 포함되어있다. \n",
    "\n",
    "이제 학습 데이터를 구성해보자. 학습 데이터 구성을 위한 간소화된 예를 들겠다. 훈련 데이터에 apple이라는 시퀀스가 있고 입력의 길이를 4라고 정하였을 때, 데이터의 구성은 어떻게 될까? 입력의 길이가 4이므로 입력 시퀀스와 예측해야 하는 출력 시퀀스 모두 길이는 4가 된다. 다시 말해 **RNN은 총 네 번의 시점을(timestep)을 가질 수 있다는 의미**이다. apple은 다섯 글자이지만 입력의 길이는 4이므로 'appl'까지만 입력으로 사용할 수 있다. 그리고 언어 모델은 다음 시점의 입력을 예측해야하는 모델이므로 **'pple'를 예측**하도록 데이터가 구성됩니다.\n",
    "\n",
    "```python\n",
    "# appl (입력 시퀀스) -> pple (예측해야하는 시퀀스)\n",
    "train_X = 'appl'\n",
    "train_y = 'pple'\n",
    "```\n",
    "\n",
    "이제 15만 9천의 길이를 가진 문자열로부터 다수의 샘플들을 만들어보자. **데이터를 만드는 방법은 문장 샘플의 길이를 정하고, 해당 길이만큼 문자열 전체를 등분하는 것**이다. 여기서는 문장의 길이를 60으로 정했는데, 샘플의 수는 15만 9천을 60으로 나눈 수가 된다. 몇 개의 샘플을 만들 수 있을지 그 개수를 계산해보자."
   ]
  },
  {
   "cell_type": "code",
   "execution_count": 12,
   "id": "4255fd44",
   "metadata": {},
   "outputs": [
    {
     "name": "stdout",
     "output_type": "stream",
     "text": [
      "생겨날 샘플의 수 : 2658\n"
     ]
    }
   ],
   "source": [
    "seq_length = 60\n",
    "\n",
    "# 문자열의 길이를 seq_length로 나누면 전처리 후 생겨날 샘플 수\n",
    "n_samples = int(np.floor((len(total_data) - 1) / seq_length))\n",
    "print ('생겨날 샘플의 수 : {}'.format(n_samples))"
   ]
  },
  {
   "cell_type": "markdown",
   "id": "69dc87d1",
   "metadata": {},
   "source": [
    "이제 전처리를 진행하자. 전처리가 어떻게 진행되었는지는 전처리 후 얻은 train_X와 train_y를 통해 설명하겠습니다."
   ]
  },
  {
   "cell_type": "code",
   "execution_count": 16,
   "id": "f3544d34",
   "metadata": {},
   "outputs": [
    {
     "name": "stdout",
     "output_type": "stream",
     "text": [
      "X 데이터의 첫번째 샘플 : [49, 37, 34, 0, 45, 47, 44, 39, 34, 32, 49, 0, 36, 50, 49, 34, 43, 31, 34, 47, 36, 0, 34, 31, 44, 44, 40, 0, 44, 35, 0, 30, 41, 38, 32, 34, 48, 0, 30, 33, 51, 34, 43, 49, 50, 47, 34, 48, 0, 38, 43, 0, 52, 44, 43, 33, 34, 47, 41, 30]\n",
      "y 데이터의 첫번째 샘플 : [37, 34, 0, 45, 47, 44, 39, 34, 32, 49, 0, 36, 50, 49, 34, 43, 31, 34, 47, 36, 0, 34, 31, 44, 44, 40, 0, 44, 35, 0, 30, 41, 38, 32, 34, 48, 0, 30, 33, 51, 34, 43, 49, 50, 47, 34, 48, 0, 38, 43, 0, 52, 44, 43, 33, 34, 47, 41, 30, 43]\n",
      "--------------------------------------------------\n",
      "X 데이터의 첫번째 샘플 디코딩 : ['t', 'h', 'e', ' ', 'p', 'r', 'o', 'j', 'e', 'c', 't', ' ', 'g', 'u', 't', 'e', 'n', 'b', 'e', 'r', 'g', ' ', 'e', 'b', 'o', 'o', 'k', ' ', 'o', 'f', ' ', 'a', 'l', 'i', 'c', 'e', 's', ' ', 'a', 'd', 'v', 'e', 'n', 't', 'u', 'r', 'e', 's', ' ', 'i', 'n', ' ', 'w', 'o', 'n', 'd', 'e', 'r', 'l', 'a']\n",
      "y 데이터의 첫번째 샘플 디코딩 : ['h', 'e', ' ', 'p', 'r', 'o', 'j', 'e', 'c', 't', ' ', 'g', 'u', 't', 'e', 'n', 'b', 'e', 'r', 'g', ' ', 'e', 'b', 'o', 'o', 'k', ' ', 'o', 'f', ' ', 'a', 'l', 'i', 'c', 'e', 's', ' ', 'a', 'd', 'v', 'e', 'n', 't', 'u', 'r', 'e', 's', ' ', 'i', 'n', ' ', 'w', 'o', 'n', 'd', 'e', 'r', 'l', 'a', 'n']\n"
     ]
    }
   ],
   "source": [
    "train_X = []\n",
    "train_y = []\n",
    "\n",
    "for i in range(n_samples):\n",
    "    # 0:60 -> 60:120 -> 120:180로 loop를 돌면서  60개 문자 단위로 문장 샘플을 1개씩 pick.\n",
    "    X_sample = total_data[i * seq_length: (i + 1) * seq_length]\n",
    "\n",
    "    # 정수 인코딩 -> char_to_index로 만들어 놓은 인덱싱을 부여\n",
    "    X_encoded = [char_to_index[c] for c in X_sample]\n",
    "    train_X.append(X_encoded)\n",
    "\n",
    "    # 오른쪽으로 1칸 쉬프트 -> 왜냐하면 입력으로 a p p l 을 넣으면 정답으로 p p l e를 내야하므로\n",
    "    y_sample = total_data[i * seq_length + 1: (i + 1) * seq_length + 1]\n",
    "    y_encoded = [char_to_index[c] for c in y_sample]\n",
    "    train_y.append(y_encoded)\n",
    "\n",
    "print('X 데이터의 첫번째 샘플 :',train_X[0])\n",
    "print('y 데이터의 첫번째 샘플 :',train_y[0])\n",
    "print('-'*50)\n",
    "print('X 데이터의 첫번째 샘플 디코딩 :',[index_to_char[i] for i in train_X[0]])\n",
    "print('y 데이터의 첫번째 샘플 디코딩 :',[index_to_char[i] for i in train_y[0]])"
   ]
  },
  {
   "cell_type": "markdown",
   "id": "b8b4b4e1",
   "metadata": {},
   "source": [
    "train_y의 원소는 train_X의 같은 인덱스의 원소에서 오른쪽으로 한 칸 쉬프트 된 문장이다.\n",
    "\n",
    "이제 train_X와 train_y에 대해서 원-핫 인코딩을 수행하자. 문자 단위 RNN에서는 입력 시퀀스에 대해서 워드 임베딩을 하지 않는다. 다시 말해 임베딩층(embedding layer)을 사용하지 않을 것이므로, 입력 시퀀스인 train_X에 대해서도 원-핫 인코딩을 한다.\n",
    "\n",
    "**아.. 임베딩층을 사용하면 원-핫을 하지 않아도 되는구나!!**\n",
    "\n",
    "원-핫 인코딩을 하게되면, 총 샘플의 수만큼 batch가 생성되는 것이고, 학습 데이터의 list에 각각의 원소는 60개씩 들어있으므로, timesteps이 60이라고 볼 수 있다. 그리고 문자의 개수가 총 56개 이므로, 원-핫 인코딩으로 얻게 되는 3D 텐서의 shape은 (2658,60,56)이다."
   ]
  },
  {
   "cell_type": "code",
   "execution_count": 18,
   "id": "59483277",
   "metadata": {
    "scrolled": true
   },
   "outputs": [
    {
     "name": "stdout",
     "output_type": "stream",
     "text": [
      "train_X의 크기(shape) : (2658, 60, 56, 2)\n",
      "train_y의 크기(shape) : (2658, 60, 56, 2)\n"
     ]
    }
   ],
   "source": [
    "train_X = to_categorical(train_X)\n",
    "train_y = to_categorical(train_y)\n",
    "\n",
    "print('train_X의 크기(shape) : {}'.format(train_X.shape)) # 원-핫 인코딩\n",
    "print('train_y의 크기(shape) : {}'.format(train_y.shape)) # 원-핫 인코딩"
   ]
  },
  {
   "cell_type": "markdown",
   "id": "d966a005",
   "metadata": {},
   "source": [
    "## 2) 모델 설계하기\n",
    "\n",
    "다음 조건으로 모델을 설계하라.\n",
    "\n",
    "* 하이퍼파라미터인 은닉 상태의 크기는 256임.\n",
    "* 모델은 다 대 다 구조의 LSTM을 사용하며, LSTM 은닉층은 두 개를 사용함.\n",
    "* 전결합층(Fully Connected Layer)을 출력층으로 문자 집합 크기만큼의 뉴런을 배치하여 모델을 설계.\n",
    "* 해당 모델은 모든 시점에서 모든 가능한 문자 중 하나의 문자를 예측하는 다중 클래스 분류 문제를 수행하는 모델임을 고려해 출력층의 활성화 함수로는 소프트맥스 함수를 사용하고, 손실 함수로 크로스 엔트로피 함수를 사용.\n",
    "* Epoch는 80으로 수행.\n",
    "\n"
   ]
  },
  {
   "cell_type": "code",
   "execution_count": null,
   "id": "06b02e6e",
   "metadata": {},
   "outputs": [],
   "source": [
    "from tensorflow.keras.models import Sequential\n",
    "from tensorflow.keras.layers import Dense, LSTM, TimeDistributed\n",
    "\n",
    "hidden_dim = 256\n",
    "\n",
    "model = Sequential()\n",
    "model.add(LSTM(hidden_dim,input_shape=(None,train_X.shape[2]),return_sequences=True)) \n",
    "model.add(LSTM(hidden_dim,return_sequences=True))"
   ]
  }
 ],
 "metadata": {
  "kernelspec": {
   "display_name": "Python 3",
   "language": "python",
   "name": "python3"
  },
  "language_info": {
   "codemirror_mode": {
    "name": "ipython",
    "version": 3
   },
   "file_extension": ".py",
   "mimetype": "text/x-python",
   "name": "python",
   "nbconvert_exporter": "python",
   "pygments_lexer": "ipython3",
   "version": "3.8.10"
  }
 },
 "nbformat": 4,
 "nbformat_minor": 5
}
