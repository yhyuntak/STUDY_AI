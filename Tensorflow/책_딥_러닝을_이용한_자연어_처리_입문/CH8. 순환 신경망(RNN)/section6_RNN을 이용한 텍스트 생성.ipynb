{
 "cells": [
  {
   "cell_type": "markdown",
   "id": "4336da22",
   "metadata": {},
   "source": [
    "다 대 일(many-to-one) 구조의 RNN을 사용하여 문맥을 반영해서 텍스트를 생성하는 모델을 만들어보자!\n",
    "\n",
    "# 1. RNN을 이용하여 텍스트 생성하기\n",
    "---\n",
    "\n",
    "예를 들어서 '경마장에 있는 말이 뛰고 있다'와 '그의 말이 법이다'와 '가는 말이 고와야 오는 말이 곱다'라는 세 가지 문장이 있다고 해보자. 모델이 문맥을 학습할 수 있도록, 전체 문장의 앞의 단어들을 전부 고려하여 학습하도록 데이터를 재구성한다면 아래와 같이 총 11개의 샘플이 구성된다. 이 얘기는 앞서 [section 5의 RNN 언어 모델]()에서 "
   ]
  }
 ],
 "metadata": {
  "kernelspec": {
   "display_name": "Python 3",
   "language": "python",
   "name": "python3"
  },
  "language_info": {
   "codemirror_mode": {
    "name": "ipython",
    "version": 3
   },
   "file_extension": ".py",
   "mimetype": "text/x-python",
   "name": "python",
   "nbconvert_exporter": "python",
   "pygments_lexer": "ipython3",
   "version": "3.8.10"
  }
 },
 "nbformat": 4,
 "nbformat_minor": 5
}
