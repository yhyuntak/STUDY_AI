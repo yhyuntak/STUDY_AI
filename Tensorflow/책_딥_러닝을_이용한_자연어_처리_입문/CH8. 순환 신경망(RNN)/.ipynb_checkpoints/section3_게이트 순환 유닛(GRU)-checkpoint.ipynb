{
 "cells": [
  {
   "cell_type": "markdown",
   "id": "8241dfbc",
   "metadata": {},
   "source": [
    "GRU(Gated Recurrent Unit)는 2014년 뉴욕대학교 조경현 교수님이 집필한 논문에서 제안되었다. GRU는 LSTM의 장기 의존성 문제에 대한 해결책을 유지하면서, 은닉 상태를 업데이트하는 계산을 줄였다. 다시 말해서, **GRU는 성능은 LSTM과 유사하면서 복잡했던 LSTM의 구조를 간단화**시켰다.\n",
    "\n",
    "우리나라 사람이 만든 기술인지 몰랐다.. 대단한 사람이 진짜 많다..\n",
    "\n",
    "# 1. GRU(Gated Recurrent Unit)\n",
    "---\n",
    "\n",
    "LSTM에서는 출력, 입력, 삭제 게이트라는 3개의 게이트가 존재했다. 반면, **GRU에서는 업데이트 게이트와 리셋 게이트 두 가지 게이트만이 존재**한다. GRU는 LSTM보다 학습 속도가 빠르다고 알려져있지만 여러 평가에서 GRU는 LSTM과 비슷한 성능을 보인다고 한다. 학습 속도가 빠르면서 성능이 비슷하다면 완전 업그레이드 버젼인거지..~\n",
    "\n",
    "![그림 1](./images/section3/그림_1.png)\n",
    "\n",
    "$$\n",
    "r_t=\\sigma(W_{xr}x_t+W_{hr}h_{t-1}+b_r)\\\\\n",
    "z_t = \\sigma(W_{xz}x_t+W_{hz}h_{t-1}+b_z)\\\\\n",
    "g_t=\\text{tanh}(W_{hg}(r_t\\circ h_{t-1})+W_{xg}x_t+b_g)\\\\\n",
    "h_t = (1-z_t)\\circ g_t + z_t \\circ h_{t-1}\n",
    "$$\n",
    "\n",
    "GRU와 LSTM 중 어떤 것이 모델의 성능면에서 더 낫다라고 단정지어 말할 수 없으며, 기존에 LSTM을 사용하면서 최적의 하이퍼파라미터를 찾아낸 상황이라면 굳이 GRU로 바꿔서 사용할 필요는 없다고 한다.\n",
    "\n",
    "경험적으로 **데이터 양이 적을 때는 매개 변수의 양이 적은 GRU가 조금 더 낫고, 데이터 양이 더 많으면 LSTM이 더 낫다**고도 한다. GRU보다 LSTM에 대한 연구나 사용량이 더 많은데, 이는 LSTM이 더 먼저 나온 구조이기 때문이다.\n",
    "\n",
    "이 책에는 GRU에 대한 설명이 이게 끝이다. GRU에 대한 책이 나에게 따로 있는데, 일단 이 책을 끝까지 한번 보면서 실습하는게 목표이므로 더 자세한 내용 정리는 따로 하도록 하자.\n",
    "\n",
    "<br/><br/>\n",
    "\n",
    "# 2. 케라스에서의 GRU(Gated Recurrent Unit)\n",
    "---\n",
    "케라스에서 GRU를 Sequential API로 간단하게 사용할 수 있게 지원한다. \n",
    "```python\n",
    "model.add(GRU(hidden_size, input_shape=(timesteps, input_dim)))\n",
    "```"
   ]
  }
 ],
 "metadata": {
  "kernelspec": {
   "display_name": "Python 3",
   "language": "python",
   "name": "python3"
  },
  "language_info": {
   "codemirror_mode": {
    "name": "ipython",
    "version": 3
   },
   "file_extension": ".py",
   "mimetype": "text/x-python",
   "name": "python",
   "nbconvert_exporter": "python",
   "pygments_lexer": "ipython3",
   "version": "3.8.10"
  }
 },
 "nbformat": 4,
 "nbformat_minor": 5
}
