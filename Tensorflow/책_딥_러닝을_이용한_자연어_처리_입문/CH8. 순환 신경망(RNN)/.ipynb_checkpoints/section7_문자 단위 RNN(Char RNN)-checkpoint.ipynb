{
 "cells": [
  {
   "cell_type": "markdown",
   "id": "e0efe183",
   "metadata": {},
   "source": [
    "지금까지 배운 RNN은 전부 입력과 출력의 단위가 단어 벡터였다. 하지만 입출력의 단위를 단어 레벨(word-level)에서 문자 레벨(character-level)로 변경해서 RNN을 구현할 수도 있다.\n",
    "\n",
    "![그림 1](./images/section7/그림_1.png)\n",
    "\n",
    "위의 그림은 문자 단위 RNN을 다 대 다(Many-to-Many) 구조로 구현한 경우, 다 대 일(Many-to-One) 구조로 구현한 경우 두 가지를 보여준다. 이번 세션에선  두 가지 모두 구현해볼 것이다. \n",
    "\n",
    "첫번째로 구현할 것은 다 대 다 구조를 이용한 언어 모델이다.\n",
    "\n",
    "# 1. 문자 단위 RNN 언어 모델(Char RNNLM)\n",
    "---\n",
    "\n",
    "이전 시점의 예측 문자를 다음 시점의 입력으로 사용하는 문자 단위 RNN 언어 모델을 구현해보자. 이전 세션에서 배운 단어 단위의 RNN 언어 모델과 다른 점은 **단어 단위가 아니라 문자 단위를 입, 출력으로 사용**하므로 **임베딩층(embedding layer)을 여기서는 사용하지 않는다.** 여기서는 언어 모델의 훈련 과정과 테스트 과정의 차이를 이해하는데 집중한다.\n",
    "\n",
    "다운로드 링크 : http://www.gutenberg.org/files/11/11-0.txt\n",
    "\n",
    "고전 소설들은 저작권에 보호받지 않으므로 무료로 다운받을 수 있다. 위의 링크에서 '이상한 나라의 앨리스(Alice’s Adventures in Wonderland)'라는 소설을 다운로드하자.\n",
    "\n",
    "## 1) 데이터에 대한 이해와 전처리\n",
    "\n",
    "먼저 데이터를 로드하고 특수문자를 제거하고 단어를 소문자화하는 간단한 전처리를 수행한다."
   ]
  },
  {
   "cell_type": "code",
   "execution_count": 2,
   "id": "f8574626",
   "metadata": {},
   "outputs": [],
   "source": [
    "import numpy as np\n",
    "import urllib.request\n",
    "from tensorflow.keras.utils import to_categorical\n",
    "\n",
    "# 데이터 로드\n",
    "urllib.request.urlretrieve(\"http://www.gutenberg.org/files/11/11-0.txt\", filename=\"11-0.txt\")\n",
    "\n",
    "f = open('11-0.txt', 'rb')\n",
    "sentences = []\n",
    "for sentence in f: # 데이터로부터 한 줄씩 읽는다.\n",
    "    sentence = sentence.strip() # strip()을 통해 \\r, \\n을 제거한다.\n",
    "    sentence = sentence.lower() # 소문자화.\n",
    "    sentence = sentence.decode('ascii', 'ignore') # \\xe2\\x80\\x99 등과 같은 바이트 열 제거\n",
    "    if len(sentence) > 0:\n",
    "        sentences.append(sentence)\n",
    "f.close()"
   ]
  },
  {
   "cell_type": "code",
   "execution_count": 3,
   "id": "6d1c7fff",
   "metadata": {},
   "outputs": [
    {
     "data": {
      "text/plain": [
       "['the project gutenberg ebook of alices adventures in wonderland, by lewis carroll',\n",
       " 'this ebook is for the use of anyone anywhere in the united states and',\n",
       " 'most other parts of the world at no cost and with almost no restrictions',\n",
       " 'whatsoever. you may copy it, give it away or re-use it under the terms',\n",
       " 'of the project gutenberg license included with this ebook or online at']"
      ]
     },
     "execution_count": 3,
     "metadata": {},
     "output_type": "execute_result"
    }
   ],
   "source": [
    "sentences[:5]"
   ]
  },
  {
   "cell_type": "markdown",
   "id": "6fff89c3",
   "metadata": {},
   "source": [
    "리스트의 원소는 문자열로 구성되어져 있는데, 이것들은 의미있게 문장 토큰화가 된 상태는 아니다. 이를 하나의 문자열로 통합해보자."
   ]
  },
  {
   "cell_type": "code",
   "execution_count": 4,
   "id": "be2ac7c3",
   "metadata": {},
   "outputs": [
    {
     "name": "stdout",
     "output_type": "stream",
     "text": [
      "문자열의 길이 또는 총 문자의 개수: 159484\n",
      "the project gutenberg ebook of alices adventures in wonderland, by lewis carroll this ebook is for t\n"
     ]
    }
   ],
   "source": [
    "total_data = ' '.join(sentences)\n",
    "print('문자열의 길이 또는 총 문자의 개수: %d' % len(total_data))\n",
    "print(total_data[:100])"
   ]
  },
  {
   "cell_type": "markdown",
   "id": "89832ce0",
   "metadata": {},
   "source": [
    "기존에는 중복을 제거한 단어들의 모음인 단어 집합(vocabulary)을 만들었으나, 이번에 만들 집합은 단어 집합이 아니라 문자 집합이다. 이 문자열로부터 문자 집합을 만들도록 하자. "
   ]
  },
  {
   "cell_type": "code",
   "execution_count": 5,
   "id": "cb44eeff",
   "metadata": {},
   "outputs": [
    {
     "name": "stdout",
     "output_type": "stream",
     "text": [
      "문자 집합의 크기 : 56\n",
      "Unique한 문자 집합 :  [' ', '!', '\"', '#', '$', '%', \"'\", '(', ')', '*', ',', '-', '.', '/', '0', '1', '2', '3', '4', '5', '6', '7', '8', '9', ':', ';', '?', '[', ']', '_', 'a', 'b', 'c', 'd', 'e', 'f', 'g', 'h', 'i', 'j', 'k', 'l', 'm', 'n', 'o', 'p', 'q', 'r', 's', 't', 'u', 'v', 'w', 'x', 'y', 'z']\n"
     ]
    }
   ],
   "source": [
    "char_vocab = sorted(list(set(total_data)))\n",
    "vocab_size = len(char_vocab)\n",
    "print('문자 집합의 크기 : {}'.format(vocab_size))\n",
    "print('Unique한 문자 집합 : ',char_vocab)"
   ]
  },
  {
   "cell_type": "markdown",
   "id": "0135dce9",
   "metadata": {},
   "source": [
    "영어가 훈련 데이터일 때 문자 집합의 크기는 단어 집합을 사용했을 경우보다 집합의 크기가 현저히 작다. 아무리 **훈련 코퍼스에 수십만 개 이상의 많은 영어 단어가 존재한다고 하더라도, 영어 단어를 표현하기 위해서 사용되는 문자는 26개의 알파벳뿐이기 때문**이다. 만약 훈련 데이터의 알파벳이 대, 소문자가 구분된 상태라고 하더라도 모든 영어 단어는 총 52개의 알파벳으로 표현 가능하다.\n",
    "\n",
    "어떤 방대한 양의 텍스트라도 집합의 크기를 적게 가져갈 수 있다는 것은 구현과 테스트를 굉장히 쉽게 할 수 있다는 이점을 가지므로, RNN의 동작 메커니즘 이해를 위한 토이 프로젝트 용도로 유용하다. 문자 집합의 각 문자에 정수를 부여하고 출력하자."
   ]
  },
  {
   "cell_type": "code",
   "execution_count": 6,
   "id": "9b221d3f",
   "metadata": {},
   "outputs": [
    {
     "name": "stdout",
     "output_type": "stream",
     "text": [
      "문자 집합 : {' ': 0, '!': 1, '\"': 2, '#': 3, '$': 4, '%': 5, \"'\": 6, '(': 7, ')': 8, '*': 9, ',': 10, '-': 11, '.': 12, '/': 13, '0': 14, '1': 15, '2': 16, '3': 17, '4': 18, '5': 19, '6': 20, '7': 21, '8': 22, '9': 23, ':': 24, ';': 25, '?': 26, '[': 27, ']': 28, '_': 29, 'a': 30, 'b': 31, 'c': 32, 'd': 33, 'e': 34, 'f': 35, 'g': 36, 'h': 37, 'i': 38, 'j': 39, 'k': 40, 'l': 41, 'm': 42, 'n': 43, 'o': 44, 'p': 45, 'q': 46, 'r': 47, 's': 48, 't': 49, 'u': 50, 'v': 51, 'w': 52, 'x': 53, 'y': 54, 'z': 55}\n"
     ]
    }
   ],
   "source": [
    "# 문자에 고유한 인덱스 부여\n",
    "char_to_index = dict((char, index) for index, char in enumerate(char_vocab))\n",
    "print('문자 집합 :',char_to_index)\n",
    "\n",
    "# 인덱스를 문자로\n",
    "index_to_char = {}\n",
    "for key, value in char_to_index.items():\n",
    "    index_to_char[value] = key"
   ]
  },
  {
   "cell_type": "markdown",
   "id": "dfc64d2d",
   "metadata": {},
   "source": [
    "정수 0부터 28까지는 공백을 포함한 각종 구두점, 특수문자가 존재하고, 정수 29부터 54까지는 a부터 z까지 총 26개의 알파벳 소문자가 문자 집합에 포함되어있다. \n",
    "\n",
    "이제 학습 데이터를 구성해보자. 학습 데이터 구성을 위한 간소화된 예를 들겠다. 훈련 데이터에 apple이라는 시퀀스가 있고 입력의 길이를 4라고 정하였을 때, 데이터의 구성은 어떻게 될까? 입력의 길이가 4이므로 입력 시퀀스와 예측해야 하는 출력 시퀀스 모두 길이는 4가 된다. 다시 말해 **RNN은 총 네 번의 시점을(timestep)을 가질 수 있다는 의미**이다. apple은 다섯 글자이지만 입력의 길이는 4이므로 'appl'까지만 입력으로 사용할 수 있다. 그리고 언어 모델은 다음 시점의 입력을 예측해야하는 모델이므로 **'pple'를 예측**하도록 데이터가 구성됩니다.\n",
    "\n",
    "```python\n",
    "# appl (입력 시퀀스) -> pple (예측해야하는 시퀀스)\n",
    "train_X = 'appl'\n",
    "train_y = 'pple'\n",
    "```\n",
    "\n",
    "이제 15만 9천의 길이를 가진 문자열로부터 다수의 샘플들을 만들어보자. **데이터를 만드는 방법은 문장 샘플의 길이를 정하고, 해당 길이만큼 문자열 전체를 등분하는 것**이다. 여기서는 문장의 길이를 60으로 정했는데, 샘플의 수는 15만 9천을 60으로 나눈 수가 된다. 몇 개의 샘플을 만들 수 있을지 그 개수를 계산해보자."
   ]
  },
  {
   "cell_type": "code",
   "execution_count": 7,
   "id": "4255fd44",
   "metadata": {},
   "outputs": [
    {
     "name": "stdout",
     "output_type": "stream",
     "text": [
      "생겨날 샘플의 수 : 2658\n"
     ]
    }
   ],
   "source": [
    "seq_length = 60\n",
    "\n",
    "# 문자열의 길이를 seq_length로 나누면 전처리 후 생겨날 샘플 수\n",
    "n_samples = int(np.floor((len(total_data) - 1) / seq_length))\n",
    "print ('생겨날 샘플의 수 : {}'.format(n_samples))"
   ]
  },
  {
   "cell_type": "markdown",
   "id": "69dc87d1",
   "metadata": {},
   "source": [
    "이제 전처리를 진행하자. 전처리가 어떻게 진행되었는지는 전처리 후 얻은 train_X와 train_y를 통해 설명하겠습니다."
   ]
  },
  {
   "cell_type": "code",
   "execution_count": 8,
   "id": "f3544d34",
   "metadata": {},
   "outputs": [
    {
     "name": "stdout",
     "output_type": "stream",
     "text": [
      "X 데이터의 첫번째 샘플 : [49, 37, 34, 0, 45, 47, 44, 39, 34, 32, 49, 0, 36, 50, 49, 34, 43, 31, 34, 47, 36, 0, 34, 31, 44, 44, 40, 0, 44, 35, 0, 30, 41, 38, 32, 34, 48, 0, 30, 33, 51, 34, 43, 49, 50, 47, 34, 48, 0, 38, 43, 0, 52, 44, 43, 33, 34, 47, 41, 30]\n",
      "y 데이터의 첫번째 샘플 : [37, 34, 0, 45, 47, 44, 39, 34, 32, 49, 0, 36, 50, 49, 34, 43, 31, 34, 47, 36, 0, 34, 31, 44, 44, 40, 0, 44, 35, 0, 30, 41, 38, 32, 34, 48, 0, 30, 33, 51, 34, 43, 49, 50, 47, 34, 48, 0, 38, 43, 0, 52, 44, 43, 33, 34, 47, 41, 30, 43]\n",
      "--------------------------------------------------\n",
      "X 데이터의 첫번째 샘플 디코딩 : ['t', 'h', 'e', ' ', 'p', 'r', 'o', 'j', 'e', 'c', 't', ' ', 'g', 'u', 't', 'e', 'n', 'b', 'e', 'r', 'g', ' ', 'e', 'b', 'o', 'o', 'k', ' ', 'o', 'f', ' ', 'a', 'l', 'i', 'c', 'e', 's', ' ', 'a', 'd', 'v', 'e', 'n', 't', 'u', 'r', 'e', 's', ' ', 'i', 'n', ' ', 'w', 'o', 'n', 'd', 'e', 'r', 'l', 'a']\n",
      "y 데이터의 첫번째 샘플 디코딩 : ['h', 'e', ' ', 'p', 'r', 'o', 'j', 'e', 'c', 't', ' ', 'g', 'u', 't', 'e', 'n', 'b', 'e', 'r', 'g', ' ', 'e', 'b', 'o', 'o', 'k', ' ', 'o', 'f', ' ', 'a', 'l', 'i', 'c', 'e', 's', ' ', 'a', 'd', 'v', 'e', 'n', 't', 'u', 'r', 'e', 's', ' ', 'i', 'n', ' ', 'w', 'o', 'n', 'd', 'e', 'r', 'l', 'a', 'n']\n"
     ]
    }
   ],
   "source": [
    "train_X = []\n",
    "train_y = []\n",
    "\n",
    "for i in range(n_samples):\n",
    "    # 0:60 -> 60:120 -> 120:180로 loop를 돌면서  60개 문자 단위로 문장 샘플을 1개씩 pick.\n",
    "    X_sample = total_data[i * seq_length: (i + 1) * seq_length]\n",
    "\n",
    "    # 정수 인코딩 -> char_to_index로 만들어 놓은 인덱싱을 부여\n",
    "    X_encoded = [char_to_index[c] for c in X_sample]\n",
    "    train_X.append(X_encoded)\n",
    "\n",
    "    # 오른쪽으로 1칸 쉬프트 -> 왜냐하면 입력으로 a p p l 을 넣으면 정답으로 p p l e를 내야하므로\n",
    "    y_sample = total_data[i * seq_length + 1: (i + 1) * seq_length + 1]\n",
    "    y_encoded = [char_to_index[c] for c in y_sample]\n",
    "    train_y.append(y_encoded)\n",
    "\n",
    "print('X 데이터의 첫번째 샘플 :',train_X[0])\n",
    "print('y 데이터의 첫번째 샘플 :',train_y[0])\n",
    "print('-'*50)\n",
    "print('X 데이터의 첫번째 샘플 디코딩 :',[index_to_char[i] for i in train_X[0]])\n",
    "print('y 데이터의 첫번째 샘플 디코딩 :',[index_to_char[i] for i in train_y[0]])"
   ]
  },
  {
   "cell_type": "markdown",
   "id": "b8b4b4e1",
   "metadata": {},
   "source": [
    "train_y의 원소는 train_X의 같은 인덱스의 원소에서 오른쪽으로 한 칸 쉬프트 된 문장이다.\n",
    "\n",
    "이제 train_X와 train_y에 대해서 원-핫 인코딩을 수행하자. 문자 단위 RNN에서는 입력 시퀀스에 대해서 워드 임베딩을 하지 않는다. 다시 말해 임베딩층(embedding layer)을 사용하지 않을 것이므로, 입력 시퀀스인 train_X에 대해서도 원-핫 인코딩을 한다.\n",
    "\n",
    "**아.. 임베딩층을 사용하면 원-핫을 하지 않아도 되는구나!!**\n",
    "\n",
    "원-핫 인코딩을 하게되면, 총 샘플의 수만큼 batch가 생성되는 것이고, 학습 데이터의 list에 각각의 원소는 60개씩 들어있으므로, timesteps이 60이라고 볼 수 있다. 그리고 문자의 개수가 총 56개 이므로, 원-핫 인코딩으로 얻게 되는 3D 텐서의 shape은 (2658,60,56)이다."
   ]
  },
  {
   "cell_type": "code",
   "execution_count": 9,
   "id": "59483277",
   "metadata": {
    "scrolled": true
   },
   "outputs": [
    {
     "name": "stdout",
     "output_type": "stream",
     "text": [
      "train_X의 크기(shape) : (2658, 60, 56)\n",
      "train_y의 크기(shape) : (2658, 60, 56)\n"
     ]
    }
   ],
   "source": [
    "train_X = to_categorical(train_X)\n",
    "train_y = to_categorical(train_y)\n",
    "\n",
    "print('train_X의 크기(shape) : {}'.format(train_X.shape)) # 원-핫 인코딩\n",
    "print('train_y의 크기(shape) : {}'.format(train_y.shape)) # 원-핫 인코딩"
   ]
  },
  {
   "cell_type": "markdown",
   "id": "d966a005",
   "metadata": {},
   "source": [
    "## 2) 모델 설계하기\n",
    "\n",
    "다음 조건으로 모델을 설계하라.\n",
    "\n",
    "* 하이퍼파라미터인 은닉 상태의 크기는 256임.\n",
    "* 모델은 다 대 다 구조의 LSTM을 사용하며, LSTM 은닉층은 두 개를 사용함.\n",
    "* 전결합층(Fully Connected Layer)을 출력층으로 문자 집합 크기만큼의 뉴런을 배치하여 모델을 설계.\n",
    "* 해당 모델은 모든 시점에서 모든 가능한 문자 중 하나의 문자를 예측하는 다중 클래스 분류 문제를 수행하는 모델임을 고려해 출력층의 활성화 함수로는 소프트맥스 함수를 사용하고, 손실 함수로 크로스 엔트로피 함수를 사용.\n",
    "* Epoch는 80으로 수행.\n",
    "\n"
   ]
  },
  {
   "cell_type": "code",
   "execution_count": 12,
   "id": "06b02e6e",
   "metadata": {},
   "outputs": [],
   "source": [
    "from tensorflow.keras.models import Sequential\n",
    "from tensorflow.keras.layers import Dense, LSTM, TimeDistributed\n",
    "\n",
    "hidden_dim = 256\n",
    "num_epoch = 80\n",
    "\n",
    "model = Sequential()\n",
    "# 여기서 input_shape이 (None,train_X.shape[2])가 되어있다. 이 뜻은 timestep은 어떻게 들어오든 상관 없다.(None) \n",
    "# 그러나 문자의 차원은 train_X.shape[2]로 고정이다. 라는 느낌인 것 같다.\n",
    "model.add(LSTM(hidden_dim,input_shape=(None,train_X.shape[2]),return_sequences=True)) \n",
    "model.add(LSTM(hidden_dim,return_sequences=True))"
   ]
  },
  {
   "cell_type": "markdown",
   "id": "8fc9c128",
   "metadata": {},
   "source": [
    "자, 여기서 짚고 넘어가야할 것이 있다. 책에는 따로 설명이 나와있지 않는데.. 이런건 설명해줘야하지 않았나 싶다.\n",
    "우리가 지금 만들고 있는 모델을 이전 section6에서 배웠던 다 대 일 모델이 아닌 다 대 다 모델이다. 그렇다는 것은 LSTM에서 모든 시점에서 출력 값이 나온다는 이야기다.\n",
    "\n",
    "만약 다 대 일 모델을 만들고 있었다면 마지막 시점에서만 출력 값이 나와서 Dense layer를 하나만 사용하면 된다. 그런데 다 대 다 모델은 모든 시점에서 출력이 나오니까 모든 시점에 대해 각각 Dense layer를 적용해 줘야한다. 이걸 어떻게 코딩을 해야할까? 바로 **TimeDistributed**를 사용하면 된다!! 그럼 Dense layer를 모든 시점에 대해 뿌려줘서 다 대 다 모델을 만들 수 있는 것이다. 더 자세한 설명이나 예시는 [링크](https://github.com/keras-team/keras-docs-ko/blob/master/sources/layers/wrappers.md)를 참고하자."
   ]
  },
  {
   "cell_type": "code",
   "execution_count": 13,
   "id": "a8183830",
   "metadata": {},
   "outputs": [
    {
     "name": "stdout",
     "output_type": "stream",
     "text": [
      "Epoch 1/80\n",
      "84/84 [==============================] - 3s 8ms/step - loss: 3.0749 - accuracy: 0.1834\n",
      "Epoch 2/80\n",
      "84/84 [==============================] - 1s 8ms/step - loss: 2.6724 - accuracy: 0.2628\n",
      "Epoch 3/80\n",
      "84/84 [==============================] - 1s 8ms/step - loss: 2.3496 - accuracy: 0.3376\n",
      "Epoch 4/80\n",
      "84/84 [==============================] - 1s 8ms/step - loss: 2.2113 - accuracy: 0.3714\n",
      "Epoch 5/80\n",
      "84/84 [==============================] - 1s 8ms/step - loss: 2.1148 - accuracy: 0.3927\n",
      "Epoch 6/80\n",
      "84/84 [==============================] - 1s 8ms/step - loss: 2.0257 - accuracy: 0.4162\n",
      "Epoch 7/80\n",
      "84/84 [==============================] - 1s 8ms/step - loss: 1.9563 - accuracy: 0.4358\n",
      "Epoch 8/80\n",
      "84/84 [==============================] - 1s 8ms/step - loss: 1.8924 - accuracy: 0.4532\n",
      "Epoch 9/80\n",
      "84/84 [==============================] - 1s 8ms/step - loss: 1.8363 - accuracy: 0.4696\n",
      "Epoch 10/80\n",
      "84/84 [==============================] - 1s 8ms/step - loss: 1.7869 - accuracy: 0.4821\n",
      "Epoch 11/80\n",
      "84/84 [==============================] - 1s 8ms/step - loss: 1.7369 - accuracy: 0.4955\n",
      "Epoch 12/80\n",
      "84/84 [==============================] - 1s 8ms/step - loss: 1.6937 - accuracy: 0.5067\n",
      "Epoch 13/80\n",
      "84/84 [==============================] - 1s 8ms/step - loss: 1.6547 - accuracy: 0.5151\n",
      "Epoch 14/80\n",
      "84/84 [==============================] - 1s 8ms/step - loss: 1.6147 - accuracy: 0.5266\n",
      "Epoch 15/80\n",
      "84/84 [==============================] - 1s 8ms/step - loss: 1.5788 - accuracy: 0.5361\n",
      "Epoch 16/80\n",
      "84/84 [==============================] - 1s 8ms/step - loss: 1.5476 - accuracy: 0.5435\n",
      "Epoch 17/80\n",
      "84/84 [==============================] - 1s 8ms/step - loss: 1.5104 - accuracy: 0.5539\n",
      "Epoch 18/80\n",
      "84/84 [==============================] - 1s 8ms/step - loss: 1.4769 - accuracy: 0.5628\n",
      "Epoch 19/80\n",
      "84/84 [==============================] - 1s 8ms/step - loss: 1.4467 - accuracy: 0.5722\n",
      "Epoch 20/80\n",
      "84/84 [==============================] - 1s 8ms/step - loss: 1.4151 - accuracy: 0.5806\n",
      "Epoch 21/80\n",
      "84/84 [==============================] - 1s 8ms/step - loss: 1.3852 - accuracy: 0.5881\n",
      "Epoch 22/80\n",
      "84/84 [==============================] - 1s 8ms/step - loss: 1.3579 - accuracy: 0.5957\n",
      "Epoch 23/80\n",
      "84/84 [==============================] - 1s 8ms/step - loss: 1.3279 - accuracy: 0.6052\n",
      "Epoch 24/80\n",
      "84/84 [==============================] - 1s 8ms/step - loss: 1.3019 - accuracy: 0.6113\n",
      "Epoch 25/80\n",
      "84/84 [==============================] - 1s 8ms/step - loss: 1.2705 - accuracy: 0.6214\n",
      "Epoch 26/80\n",
      "84/84 [==============================] - 1s 8ms/step - loss: 1.2440 - accuracy: 0.6281\n",
      "Epoch 27/80\n",
      "84/84 [==============================] - 1s 8ms/step - loss: 1.2180 - accuracy: 0.6358\n",
      "Epoch 28/80\n",
      "84/84 [==============================] - 1s 8ms/step - loss: 1.1881 - accuracy: 0.6449\n",
      "Epoch 29/80\n",
      "84/84 [==============================] - 1s 8ms/step - loss: 1.1611 - accuracy: 0.6532\n",
      "Epoch 30/80\n",
      "84/84 [==============================] - 1s 8ms/step - loss: 1.1346 - accuracy: 0.6610\n",
      "Epoch 31/80\n",
      "84/84 [==============================] - 1s 8ms/step - loss: 1.1056 - accuracy: 0.6695\n",
      "Epoch 32/80\n",
      "84/84 [==============================] - 1s 8ms/step - loss: 1.0764 - accuracy: 0.6777\n",
      "Epoch 33/80\n",
      "84/84 [==============================] - 1s 8ms/step - loss: 1.0468 - accuracy: 0.6876\n",
      "Epoch 34/80\n",
      "84/84 [==============================] - 1s 8ms/step - loss: 1.0168 - accuracy: 0.6969\n",
      "Epoch 35/80\n",
      "84/84 [==============================] - 1s 8ms/step - loss: 0.9889 - accuracy: 0.7042\n",
      "Epoch 36/80\n",
      "84/84 [==============================] - 1s 8ms/step - loss: 0.9653 - accuracy: 0.7121\n",
      "Epoch 37/80\n",
      "84/84 [==============================] - 1s 8ms/step - loss: 0.9330 - accuracy: 0.7222\n",
      "Epoch 38/80\n",
      "84/84 [==============================] - 1s 8ms/step - loss: 0.9077 - accuracy: 0.7296\n",
      "Epoch 39/80\n",
      "84/84 [==============================] - 1s 8ms/step - loss: 0.8780 - accuracy: 0.7388\n",
      "Epoch 40/80\n",
      "84/84 [==============================] - 1s 8ms/step - loss: 0.8521 - accuracy: 0.7469\n",
      "Epoch 41/80\n",
      "84/84 [==============================] - 1s 8ms/step - loss: 0.8200 - accuracy: 0.7577\n",
      "Epoch 42/80\n",
      "84/84 [==============================] - 1s 8ms/step - loss: 0.7973 - accuracy: 0.7637\n",
      "Epoch 43/80\n",
      "84/84 [==============================] - 1s 8ms/step - loss: 0.7653 - accuracy: 0.7753\n",
      "Epoch 44/80\n",
      "84/84 [==============================] - 1s 8ms/step - loss: 0.7456 - accuracy: 0.7798\n",
      "Epoch 45/80\n",
      "84/84 [==============================] - 1s 8ms/step - loss: 0.7126 - accuracy: 0.7913\n",
      "Epoch 46/80\n",
      "84/84 [==============================] - 1s 8ms/step - loss: 0.6907 - accuracy: 0.7989\n",
      "Epoch 47/80\n",
      "84/84 [==============================] - 1s 8ms/step - loss: 0.6633 - accuracy: 0.8079\n",
      "Epoch 48/80\n",
      "84/84 [==============================] - 1s 8ms/step - loss: 0.6448 - accuracy: 0.8126\n",
      "Epoch 49/80\n",
      "84/84 [==============================] - 1s 8ms/step - loss: 0.6194 - accuracy: 0.8213\n",
      "Epoch 50/80\n",
      "84/84 [==============================] - 1s 8ms/step - loss: 0.5952 - accuracy: 0.8291\n",
      "Epoch 51/80\n",
      "84/84 [==============================] - 1s 8ms/step - loss: 0.5692 - accuracy: 0.8380\n",
      "Epoch 52/80\n",
      "84/84 [==============================] - 1s 8ms/step - loss: 0.5541 - accuracy: 0.8424\n",
      "Epoch 53/80\n",
      "84/84 [==============================] - 1s 8ms/step - loss: 0.5301 - accuracy: 0.8509\n",
      "Epoch 54/80\n",
      "84/84 [==============================] - 1s 8ms/step - loss: 0.5024 - accuracy: 0.8595\n",
      "Epoch 55/80\n",
      "84/84 [==============================] - 1s 8ms/step - loss: 0.4890 - accuracy: 0.8636\n",
      "Epoch 56/80\n",
      "84/84 [==============================] - 1s 8ms/step - loss: 0.4808 - accuracy: 0.8653\n",
      "Epoch 57/80\n",
      "84/84 [==============================] - 1s 8ms/step - loss: 0.4493 - accuracy: 0.8765\n",
      "Epoch 58/80\n",
      "84/84 [==============================] - 1s 8ms/step - loss: 0.4301 - accuracy: 0.8826\n",
      "Epoch 59/80\n",
      "84/84 [==============================] - 1s 8ms/step - loss: 0.4166 - accuracy: 0.8865\n",
      "Epoch 60/80\n",
      "84/84 [==============================] - 1s 8ms/step - loss: 0.3955 - accuracy: 0.8940\n",
      "Epoch 61/80\n",
      "84/84 [==============================] - 1s 8ms/step - loss: 0.3704 - accuracy: 0.9030\n",
      "Epoch 62/80\n",
      "84/84 [==============================] - 1s 8ms/step - loss: 0.3547 - accuracy: 0.9086\n",
      "Epoch 63/80\n",
      "84/84 [==============================] - 1s 8ms/step - loss: 0.3508 - accuracy: 0.9088\n",
      "Epoch 64/80\n",
      "84/84 [==============================] - 1s 8ms/step - loss: 0.3441 - accuracy: 0.9091\n",
      "Epoch 65/80\n",
      "84/84 [==============================] - 1s 8ms/step - loss: 0.3195 - accuracy: 0.9184\n",
      "Epoch 66/80\n",
      "84/84 [==============================] - 1s 8ms/step - loss: 0.3143 - accuracy: 0.9194\n",
      "Epoch 67/80\n",
      "84/84 [==============================] - 1s 8ms/step - loss: 0.2960 - accuracy: 0.9261\n",
      "Epoch 68/80\n",
      "84/84 [==============================] - 1s 8ms/step - loss: 0.2901 - accuracy: 0.9264\n",
      "Epoch 69/80\n",
      "84/84 [==============================] - 1s 8ms/step - loss: 0.2713 - accuracy: 0.9328\n",
      "Epoch 70/80\n",
      "84/84 [==============================] - 1s 8ms/step - loss: 0.2559 - accuracy: 0.9383\n",
      "Epoch 71/80\n",
      "84/84 [==============================] - 1s 8ms/step - loss: 0.2661 - accuracy: 0.9328\n",
      "Epoch 72/80\n",
      "84/84 [==============================] - 1s 8ms/step - loss: 0.2435 - accuracy: 0.9414\n",
      "Epoch 73/80\n",
      "84/84 [==============================] - 1s 8ms/step - loss: 0.2332 - accuracy: 0.9436\n",
      "Epoch 74/80\n",
      "84/84 [==============================] - 1s 8ms/step - loss: 0.2331 - accuracy: 0.9432\n",
      "Epoch 75/80\n",
      "84/84 [==============================] - 1s 8ms/step - loss: 0.2207 - accuracy: 0.9465\n",
      "Epoch 76/80\n",
      "84/84 [==============================] - 1s 8ms/step - loss: 0.2097 - accuracy: 0.9499\n",
      "Epoch 77/80\n",
      "84/84 [==============================] - 1s 8ms/step - loss: 0.2001 - accuracy: 0.9522\n",
      "Epoch 78/80\n",
      "84/84 [==============================] - 1s 8ms/step - loss: 0.1894 - accuracy: 0.9556\n",
      "Epoch 79/80\n",
      "84/84 [==============================] - 1s 8ms/step - loss: 0.1848 - accuracy: 0.9564\n",
      "Epoch 80/80\n",
      "84/84 [==============================] - 1s 8ms/step - loss: 0.1842 - accuracy: 0.9562\n"
     ]
    },
    {
     "data": {
      "text/plain": [
       "<keras.callbacks.History at 0x7fd884510c10>"
      ]
     },
     "execution_count": 13,
     "metadata": {},
     "output_type": "execute_result"
    }
   ],
   "source": [
    "model.add(TimeDistributed(Dense(vocab_size,activation='softmax')))\n",
    "model.compile(loss='categorical_crossentropy',optimizer='adam',metrics=['accuracy'])\n",
    "model.fit(train_X,train_y,epochs=num_epoch,verbose=1)"
   ]
  },
  {
   "cell_type": "markdown",
   "id": "5ac1bd50",
   "metadata": {},
   "source": [
    "#### 특정 문자를 주면 다음 문자를 계속해서 생성해내는 sentence_generation 함수를 구현하자. \n",
    "\n",
    "학습된 모델과 문자의 길이를 입력하면, 랜덤하게 시작 문자를 선택해 길이 만큼의 문장을 생성하는 함수이다."
   ]
  },
  {
   "cell_type": "code",
   "execution_count": 16,
   "id": "d9ca1f7f",
   "metadata": {},
   "outputs": [
    {
     "name": "stdout",
     "output_type": "stream",
     "text": [
      "51 번 문자 v 로 예측을 시작!\n",
      "1/1 [==============================] - 0s 14ms/step\n",
      "1/1 [==============================] - 0s 13ms/step\n",
      "1/1 [==============================] - 0s 13ms/step\n",
      "1/1 [==============================] - 0s 14ms/step\n",
      "1/1 [==============================] - 0s 14ms/step\n",
      "1/1 [==============================] - 0s 15ms/step\n",
      "1/1 [==============================] - 0s 16ms/step\n",
      "1/1 [==============================] - 0s 15ms/step\n",
      "1/1 [==============================] - 0s 15ms/step\n",
      "1/1 [==============================] - 0s 14ms/step\n",
      "1/1 [==============================] - 0s 14ms/step\n",
      "1/1 [==============================] - 0s 13ms/step\n",
      "1/1 [==============================] - 0s 17ms/step\n",
      "1/1 [==============================] - 0s 19ms/step\n",
      "1/1 [==============================] - 0s 15ms/step\n",
      "1/1 [==============================] - 0s 14ms/step\n",
      "1/1 [==============================] - 0s 14ms/step\n",
      "1/1 [==============================] - 0s 14ms/step\n",
      "1/1 [==============================] - 0s 15ms/step\n",
      "1/1 [==============================] - 0s 15ms/step\n",
      "1/1 [==============================] - 0s 14ms/step\n",
      "1/1 [==============================] - 0s 14ms/step\n",
      "1/1 [==============================] - 0s 15ms/step\n",
      "1/1 [==============================] - 0s 14ms/step\n",
      "1/1 [==============================] - 0s 16ms/step\n",
      "1/1 [==============================] - 0s 14ms/step\n",
      "1/1 [==============================] - 0s 14ms/step\n",
      "1/1 [==============================] - 0s 15ms/step\n",
      "1/1 [==============================] - 0s 16ms/step\n",
      "1/1 [==============================] - 0s 18ms/step\n",
      "1/1 [==============================] - 0s 15ms/step\n",
      "1/1 [==============================] - 0s 15ms/step\n",
      "1/1 [==============================] - 0s 18ms/step\n",
      "1/1 [==============================] - 0s 15ms/step\n",
      "1/1 [==============================] - 0s 18ms/step\n",
      "1/1 [==============================] - 0s 14ms/step\n",
      "1/1 [==============================] - 0s 14ms/step\n",
      "1/1 [==============================] - 0s 15ms/step\n",
      "1/1 [==============================] - 0s 15ms/step\n",
      "1/1 [==============================] - 0s 19ms/step\n",
      "1/1 [==============================] - 0s 15ms/step\n",
      "1/1 [==============================] - 0s 14ms/step\n",
      "1/1 [==============================] - 0s 18ms/step\n",
      "1/1 [==============================] - 0s 14ms/step\n",
      "1/1 [==============================] - 0s 14ms/step\n",
      "1/1 [==============================] - 0s 16ms/step\n",
      "1/1 [==============================] - 0s 14ms/step\n",
      "1/1 [==============================] - 0s 14ms/step\n",
      "1/1 [==============================] - 0s 17ms/step\n",
      "1/1 [==============================] - 0s 15ms/step\n",
      "1/1 [==============================] - 0s 15ms/step\n",
      "1/1 [==============================] - 0s 15ms/step\n",
      "1/1 [==============================] - 0s 15ms/step\n",
      "1/1 [==============================] - 0s 19ms/step\n",
      "1/1 [==============================] - 0s 18ms/step\n",
      "1/1 [==============================] - 0s 15ms/step\n",
      "1/1 [==============================] - 0s 16ms/step\n",
      "1/1 [==============================] - 0s 15ms/step\n",
      "1/1 [==============================] - 0s 19ms/step\n",
      "1/1 [==============================] - 0s 15ms/step\n",
      "1/1 [==============================] - 0s 14ms/step\n",
      "1/1 [==============================] - 0s 17ms/step\n",
      "1/1 [==============================] - 0s 15ms/step\n",
      "1/1 [==============================] - 0s 15ms/step\n",
      "1/1 [==============================] - 0s 15ms/step\n",
      "1/1 [==============================] - 0s 15ms/step\n",
      "1/1 [==============================] - 0s 16ms/step\n",
      "1/1 [==============================] - 0s 15ms/step\n",
      "1/1 [==============================] - 0s 15ms/step\n",
      "1/1 [==============================] - 0s 18ms/step\n",
      "1/1 [==============================] - 0s 16ms/step\n",
      "1/1 [==============================] - 0s 16ms/step\n",
      "1/1 [==============================] - 0s 15ms/step\n",
      "1/1 [==============================] - 0s 17ms/step\n",
      "1/1 [==============================] - 0s 16ms/step\n",
      "1/1 [==============================] - 0s 16ms/step\n",
      "1/1 [==============================] - 0s 15ms/step\n",
      "1/1 [==============================] - 0s 15ms/step\n",
      "1/1 [==============================] - 0s 15ms/step\n",
      "1/1 [==============================] - 0s 15ms/step\n",
      "1/1 [==============================] - 0s 15ms/step\n",
      "1/1 [==============================] - 0s 15ms/step\n",
      "1/1 [==============================] - 0s 15ms/step\n",
      "1/1 [==============================] - 0s 15ms/step\n",
      "1/1 [==============================] - 0s 16ms/step\n",
      "1/1 [==============================] - 0s 15ms/step\n",
      "1/1 [==============================] - 0s 17ms/step\n",
      "1/1 [==============================] - 0s 15ms/step\n",
      "1/1 [==============================] - 0s 15ms/step\n",
      "1/1 [==============================] - 0s 21ms/step\n",
      "1/1 [==============================] - 0s 16ms/step\n",
      "1/1 [==============================] - 0s 20ms/step\n",
      "1/1 [==============================] - 0s 16ms/step\n",
      "1/1 [==============================] - 0s 16ms/step\n",
      "1/1 [==============================] - 0s 16ms/step\n",
      "1/1 [==============================] - 0s 16ms/step\n",
      "1/1 [==============================] - 0s 15ms/step\n",
      "1/1 [==============================] - 0s 16ms/step\n",
      "1/1 [==============================] - 0s 16ms/step\n",
      "1/1 [==============================] - 0s 16ms/step\n",
      "ve herself very good advice, (though she very seldom followed upen the offities of charcious your ver\n"
     ]
    }
   ],
   "source": [
    "def sentence_generation(model, length):\n",
    "    # 문자에 대한 랜덤한 정수 생성\n",
    "    ix = [np.random.randint(vocab_size)]\n",
    "\n",
    "    # 랜덤한 정수로부터 맵핑되는 문자 생성\n",
    "    y_char = [index_to_char[ix[-1]]]\n",
    "    print(ix[-1],'번 문자',y_char[-1],'로 예측을 시작!')\n",
    "\n",
    "    # (1, length, 55) 크기의 X 생성. 즉, LSTM의 입력 시퀀스 생성\n",
    "    X = np.zeros((1, length, vocab_size))\n",
    "\n",
    "    for i in range(length):\n",
    "        # X[0][i][예측한 문자의 인덱스] = 1, 즉, 예측 문자를 다음 입력 시퀀스에 추가\n",
    "        X[0][i][ix[-1]] = 1\n",
    "        print(index_to_char[ix[-1]], end=\"\")\n",
    "        ix = np.argmax(model.predict(X[:, :i+1, :])[0], 1)\n",
    "        y_char.append(index_to_char[ix[-1]])\n",
    "    return ('').join(y_char)\n",
    "\n",
    "result = sentence_generation(model, 100)\n",
    "print(result)"
   ]
  },
  {
   "cell_type": "markdown",
   "id": "6d321e3b",
   "metadata": {},
   "source": [
    "**이상한 문장이지만 어쨌든, 그럴싸한 문장이 생성되는게 신기하다!!!** 이렇게 다 대 다 모델을 학습해봤다.\n",
    "\n",
    "<br/><br/>\n",
    "\n",
    "# 2. 문자 단위 RNN(Char RNN)으로 텍스트 생성하기\n",
    "---\n",
    "\n",
    "이번에는 다 대 일 구조의 RNN을 문자 단위로 학습시키고, 텍스트 생성을 해보자.\n",
    "\n",
    "\n",
    "## 1) 데이터에 대한 이해와 전처리\n",
    "\n",
    "이번 예제는 책의 저자가 임의로 작성한 엉터리 노래 가사로 주어진다.\n"
   ]
  },
  {
   "cell_type": "code",
   "execution_count": 17,
   "id": "ae9a624f",
   "metadata": {},
   "outputs": [],
   "source": [
    "import numpy as np\n",
    "from tensorflow.keras.utils import to_categorical\n",
    "\n",
    "raw_text = '''\n",
    "I get on with life as a programmer,\n",
    "I like to contemplate beer.\n",
    "But when I start to daydream,\n",
    "My mind turns straight to wine.\n",
    "\n",
    "Do I love wine more than beer?\n",
    "\n",
    "I like to use words about beer.\n",
    "But when I stop my talking,\n",
    "My mind turns straight to wine.\n",
    "\n",
    "I hate bugs and errors.\n",
    "But I just think back to wine,\n",
    "And I'm happy once again.\n",
    "\n",
    "I like to hang out with programming and deep learning.\n",
    "But when left alone,\n",
    "My mind turns straight to wine.\n",
    "'''\n"
   ]
  },
  {
   "cell_type": "markdown",
   "id": "54e46d5c",
   "metadata": {},
   "source": [
    "위의 텍스트에 존재하는 단락 구분을 없애고 하나의 문자열로 재저장하자."
   ]
  },
  {
   "cell_type": "code",
   "execution_count": 19,
   "id": "18ebd226",
   "metadata": {},
   "outputs": [
    {
     "name": "stdout",
     "output_type": "stream",
     "text": [
      "I get on with life as a programmer, I like to contemplate beer. But when I start to daydream, My mind turns straight to wine. Do I love wine more than beer? I like to use words about beer. But when I stop my talking, My mind turns straight to wine. I hate bugs and errors. But I just think back to wine, And I'm happy once again. I like to hang out with programming and deep learning. But when left alone, My mind turns straight to wine.\n"
     ]
    }
   ],
   "source": [
    "tokens = raw_text.split()\n",
    "raw_text = ' '.join(tokens)\n",
    "print(raw_text)"
   ]
  },
  {
   "cell_type": "markdown",
   "id": "ee42b8bd",
   "metadata": {},
   "source": [
    "단락 구분이 없어지고 하나의 문자열로 재저장되었다. 이로부터 문자 집합을 만들어보자. 기존에는 중복을 제거한 단어들의 모음인 단어 집합(vocabulary)을 만들었으나, 이번에 만들 집합은 단어 집합이 아니라 **문자 집합**임을 잊지말자. 중복을 제거한 문자 집합을 생성하고, 고유 인덱스를 부여하자.\n"
   ]
  },
  {
   "cell_type": "code",
   "execution_count": 24,
   "id": "3b0115ba",
   "metadata": {},
   "outputs": [
    {
     "name": "stdout",
     "output_type": "stream",
     "text": [
      "문자 집합 : [' ', \"'\", ',', '.', '?', 'A', 'B', 'D', 'I', 'M', 'a', 'b', 'c', 'd', 'e', 'f', 'g', 'h', 'i', 'j', 'k', 'l', 'm', 'n', 'o', 'p', 'r', 's', 't', 'u', 'v', 'w', 'y']\n",
      "문자 집합의 크기 : 33\n",
      "----------------------------------------\n",
      "고유 인덱스 정보 :  {' ': 0, \"'\": 1, ',': 2, '.': 3, '?': 4, 'A': 5, 'B': 6, 'D': 7, 'I': 8, 'M': 9, 'a': 10, 'b': 11, 'c': 12, 'd': 13, 'e': 14, 'f': 15, 'g': 16, 'h': 17, 'i': 18, 'j': 19, 'k': 20, 'l': 21, 'm': 22, 'n': 23, 'o': 24, 'p': 25, 'r': 26, 's': 27, 't': 28, 'u': 29, 'v': 30, 'w': 31, 'y': 32}\n"
     ]
    }
   ],
   "source": [
    "# 중복을 제거한 문자 집합 생성\n",
    "char_vocab = sorted(list(set(raw_text)))\n",
    "vocab_size = len(char_vocab)\n",
    "print('문자 집합 :',char_vocab)\n",
    "print ('문자 집합의 크기 : {}'.format(vocab_size))\n",
    "print(\"--\"*20)\n",
    "char_to_index = dict((char, index) for index, char in enumerate(char_vocab)) # 문자에 고유한 정수 인덱스 부여\n",
    "print(\"고유 인덱스 정보 : \",char_to_index)"
   ]
  },
  {
   "cell_type": "markdown",
   "id": "eb1f2c2a",
   "metadata": {},
   "source": [
    "두번째 실습의 문자 집합의 경우, 훈련 데이터에 등장한 알파벳의 대/소문자를 구분하고 구두점과 공백을 포함했다. \n",
    "\n",
    "이제 학습에 사용할 문장 샘플들을 만들어보자. 여기서는 RNN을 이용한 생성한 텍스트 챕터와 유사하게 데이터를 구성한다. 다만, 단위가 문자 단위라는 점이 다르다. 예를 들어 학습 데이터에 student라는 단어가 있고, 입력 시퀀스의 길이를 5라고 한다면 입력 시퀀스와 예측해야하는 문자는 다음과 같이 구성된다.\n",
    "\n",
    "* stude -> n\n",
    "* tuden -> t\n",
    "\n",
    "이번 실습에선 입력 시퀀스의 길이가 10가 되도록 데이터를 구성한다. 예측 대상인 문자도 필요하므로 길이가 11이 되도록 데이터를 구성하고 나중에 쪼개자.\n"
   ]
  },
  {
   "cell_type": "code",
   "execution_count": 29,
   "id": "4ae71e15",
   "metadata": {},
   "outputs": [
    {
     "name": "stdout",
     "output_type": "stream",
     "text": [
      "총 훈련 샘플의 수: 426\n",
      "샘플 10개만 출력해보자.\n",
      "I get on wi\n",
      " get on wit\n",
      "get on with\n",
      "et on with \n",
      "t on with l\n",
      " on with li\n",
      "on with lif\n",
      "n with life\n",
      " with life \n",
      "with life a\n"
     ]
    }
   ],
   "source": [
    "length = 11\n",
    "sequences = []\n",
    "for i in range(length, len(raw_text)):\n",
    "    seq = raw_text[i-length:i] # 길이 11의 문자열을 지속적으로 만든다.\n",
    "    sequences.append(seq)\n",
    "print('총 훈련 샘플의 수: %d' % len(sequences))\n",
    "print(\"샘플 10개만 출력해보자.\")\n",
    "for s in sequences[:10] :\n",
    "    print(s)"
   ]
  },
  {
   "cell_type": "markdown",
   "id": "b66a3722",
   "metadata": {},
   "source": [
    "이제 앞서 만든 char_to_index를 사용하여 전체 데이터에 대해서 정수 인코딩을 수행한다."
   ]
  },
  {
   "cell_type": "code",
   "execution_count": 31,
   "id": "f0b58152",
   "metadata": {},
   "outputs": [
    {
     "name": "stdout",
     "output_type": "stream",
     "text": [
      "샘플 10개만 출력해보자.\n",
      "원본 샘플 :  I get on wi\n",
      "정수 인코딩 된 샘플 :  [8, 0, 16, 14, 28, 0, 24, 23, 0, 31, 18]\n",
      "----------------------------------------\n",
      "원본 샘플 :   get on wit\n",
      "정수 인코딩 된 샘플 :  [0, 16, 14, 28, 0, 24, 23, 0, 31, 18, 28]\n",
      "----------------------------------------\n",
      "원본 샘플 :  get on with\n",
      "정수 인코딩 된 샘플 :  [16, 14, 28, 0, 24, 23, 0, 31, 18, 28, 17]\n",
      "----------------------------------------\n",
      "원본 샘플 :  et on with \n",
      "정수 인코딩 된 샘플 :  [14, 28, 0, 24, 23, 0, 31, 18, 28, 17, 0]\n",
      "----------------------------------------\n",
      "원본 샘플 :  t on with l\n",
      "정수 인코딩 된 샘플 :  [28, 0, 24, 23, 0, 31, 18, 28, 17, 0, 21]\n",
      "----------------------------------------\n",
      "원본 샘플 :   on with li\n",
      "정수 인코딩 된 샘플 :  [0, 24, 23, 0, 31, 18, 28, 17, 0, 21, 18]\n",
      "----------------------------------------\n",
      "원본 샘플 :  on with lif\n",
      "정수 인코딩 된 샘플 :  [24, 23, 0, 31, 18, 28, 17, 0, 21, 18, 15]\n",
      "----------------------------------------\n",
      "원본 샘플 :  n with life\n",
      "정수 인코딩 된 샘플 :  [23, 0, 31, 18, 28, 17, 0, 21, 18, 15, 14]\n",
      "----------------------------------------\n",
      "원본 샘플 :   with life \n",
      "정수 인코딩 된 샘플 :  [0, 31, 18, 28, 17, 0, 21, 18, 15, 14, 0]\n",
      "----------------------------------------\n",
      "원본 샘플 :  with life a\n",
      "정수 인코딩 된 샘플 :  [31, 18, 28, 17, 0, 21, 18, 15, 14, 0, 10]\n",
      "----------------------------------------\n"
     ]
    }
   ],
   "source": [
    "encoded_sequences = []\n",
    "for sequence in sequences :\n",
    "    temp_sequence = [char_to_index[char] for char in sequence]\n",
    "    encoded_sequences.append(temp_sequence)\n",
    "\n",
    "print(\"샘플 10개만 출력해보자.\")\n",
    "for i in range(10) :\n",
    "    print(\"원본 샘플 : \",sequences[i])\n",
    "    print(\"정수 인코딩 된 샘플 : \",encoded_sequences[i])\n",
    "    print(\"--\"*20)"
   ]
  },
  {
   "cell_type": "markdown",
   "id": "e6be4d5b",
   "metadata": {},
   "source": [
    "이제 입력 데이터 X_data와 정답 데이터 y_data를 분리해주자. 그리고 X_data와 y_data에 원-핫 인코딩을 수행하자."
   ]
  },
  {
   "cell_type": "code",
   "execution_count": 39,
   "id": "b438af50",
   "metadata": {},
   "outputs": [
    {
     "name": "stdout",
     "output_type": "stream",
     "text": [
      "(426, 10, 33)\n",
      "(426, 33)\n"
     ]
    }
   ],
   "source": [
    "encoded_sequences = np.array(encoded_sequences)\n",
    "X_data = to_categorical(encoded_sequences[:,:-1],num_classes=vocab_size)\n",
    "y_data = to_categorical(encoded_sequences[:,-1],num_classes=vocab_size)\n",
    "\n",
    "print(X_data.shape)\n",
    "print(y_data.shape)"
   ]
  },
  {
   "cell_type": "markdown",
   "id": "9eecf3b3",
   "metadata": {},
   "source": [
    "X_data는 426의 샘플 수와 10의 timesteps, 그리고 33의 문자의 차원 수를 얻는다. \n",
    "\n",
    "## 2) 모델 설계하기\n",
    "\n",
    "다음의 조건을 갖는 모델을 설계하라.\n",
    "\n",
    "* 하이퍼파라미터인 은닉 상태의 크기는 64임.\n",
    "* 모델은 다 대 일 구조의 LSTM을 사용함.\n",
    "* 전결합층(Fully Connected Layer)을 출력층으로 문자 집합 크기만큼의 뉴런을 배치하여 모델을 설계함.\n",
    "* 해당 모델은 마지막 시점에서 모든 가능한 문자 중 하나의 문자를 예측하는 다중 클래스 분류 문제를 수행하는 모델이므로 활성화 함수로는 소프트맥스 함수를 사용하고, 손실 함수로 크로스 엔트로피 함수를 사용함.\n",
    "* Epoch는 100을 수행.\n",
    "\n",
    "이번엔 다 대 일 이므로 Timedistributed를 사용하지 않아도 된다."
   ]
  },
  {
   "cell_type": "code",
   "execution_count": 45,
   "id": "1fbdfbc7",
   "metadata": {},
   "outputs": [
    {
     "name": "stdout",
     "output_type": "stream",
     "text": [
      "Epoch 1/100\n",
      "14/14 [==============================] - 1s 3ms/step - loss: 3.3815 - accuracy: 0.1737\n",
      "Epoch 2/100\n",
      "14/14 [==============================] - 0s 3ms/step - loss: 3.0641 - accuracy: 0.2019\n",
      "Epoch 3/100\n",
      "14/14 [==============================] - 0s 3ms/step - loss: 2.9984 - accuracy: 0.1948\n",
      "Epoch 4/100\n",
      "14/14 [==============================] - 0s 3ms/step - loss: 2.9773 - accuracy: 0.1972\n",
      "Epoch 5/100\n",
      "14/14 [==============================] - 0s 3ms/step - loss: 2.9282 - accuracy: 0.1972\n",
      "Epoch 6/100\n",
      "14/14 [==============================] - 0s 3ms/step - loss: 2.8979 - accuracy: 0.1972\n",
      "Epoch 7/100\n",
      "14/14 [==============================] - 0s 3ms/step - loss: 2.8583 - accuracy: 0.1972\n",
      "Epoch 8/100\n",
      "14/14 [==============================] - 0s 3ms/step - loss: 2.8004 - accuracy: 0.2042\n",
      "Epoch 9/100\n",
      "14/14 [==============================] - 0s 3ms/step - loss: 2.7227 - accuracy: 0.2324\n",
      "Epoch 10/100\n",
      "14/14 [==============================] - 0s 3ms/step - loss: 2.6303 - accuracy: 0.2183\n",
      "Epoch 11/100\n",
      "14/14 [==============================] - 0s 3ms/step - loss: 2.5563 - accuracy: 0.2629\n",
      "Epoch 12/100\n",
      "14/14 [==============================] - 0s 3ms/step - loss: 2.4559 - accuracy: 0.2887\n",
      "Epoch 13/100\n",
      "14/14 [==============================] - 0s 3ms/step - loss: 2.3692 - accuracy: 0.3075\n",
      "Epoch 14/100\n",
      "14/14 [==============================] - 0s 3ms/step - loss: 2.2183 - accuracy: 0.3826\n",
      "Epoch 15/100\n",
      "14/14 [==============================] - 0s 3ms/step - loss: 2.1317 - accuracy: 0.3709\n",
      "Epoch 16/100\n",
      "14/14 [==============================] - 0s 3ms/step - loss: 1.9912 - accuracy: 0.4131\n",
      "Epoch 17/100\n",
      "14/14 [==============================] - 0s 3ms/step - loss: 1.8868 - accuracy: 0.4272\n",
      "Epoch 18/100\n",
      "14/14 [==============================] - 0s 3ms/step - loss: 1.7903 - accuracy: 0.4718\n",
      "Epoch 19/100\n",
      "14/14 [==============================] - 0s 3ms/step - loss: 1.6892 - accuracy: 0.5141\n",
      "Epoch 20/100\n",
      "14/14 [==============================] - 0s 3ms/step - loss: 1.5908 - accuracy: 0.5305\n",
      "Epoch 21/100\n",
      "14/14 [==============================] - 0s 3ms/step - loss: 1.4511 - accuracy: 0.5962\n",
      "Epoch 22/100\n",
      "14/14 [==============================] - 0s 3ms/step - loss: 1.3611 - accuracy: 0.5892\n",
      "Epoch 23/100\n",
      "14/14 [==============================] - 0s 3ms/step - loss: 1.2747 - accuracy: 0.6385\n",
      "Epoch 24/100\n",
      "14/14 [==============================] - 0s 3ms/step - loss: 1.2044 - accuracy: 0.6620\n",
      "Epoch 25/100\n",
      "14/14 [==============================] - 0s 3ms/step - loss: 1.0404 - accuracy: 0.6901\n",
      "Epoch 26/100\n",
      "14/14 [==============================] - 0s 3ms/step - loss: 1.0314 - accuracy: 0.7019\n",
      "Epoch 27/100\n",
      "14/14 [==============================] - 0s 3ms/step - loss: 0.9200 - accuracy: 0.7535\n",
      "Epoch 28/100\n",
      "14/14 [==============================] - 0s 3ms/step - loss: 0.8459 - accuracy: 0.7629\n",
      "Epoch 29/100\n",
      "14/14 [==============================] - 0s 3ms/step - loss: 0.7615 - accuracy: 0.8169\n",
      "Epoch 30/100\n",
      "14/14 [==============================] - 0s 3ms/step - loss: 0.6665 - accuracy: 0.8474\n",
      "Epoch 31/100\n",
      "14/14 [==============================] - 0s 3ms/step - loss: 0.6219 - accuracy: 0.8404\n",
      "Epoch 32/100\n",
      "14/14 [==============================] - 0s 3ms/step - loss: 0.5436 - accuracy: 0.8897\n",
      "Epoch 33/100\n",
      "14/14 [==============================] - 0s 3ms/step - loss: 0.4632 - accuracy: 0.9085\n",
      "Epoch 34/100\n",
      "14/14 [==============================] - 0s 3ms/step - loss: 0.4239 - accuracy: 0.9296\n",
      "Epoch 35/100\n",
      "14/14 [==============================] - 0s 3ms/step - loss: 0.3787 - accuracy: 0.9437\n",
      "Epoch 36/100\n",
      "14/14 [==============================] - 0s 3ms/step - loss: 0.3365 - accuracy: 0.9319\n",
      "Epoch 37/100\n",
      "14/14 [==============================] - 0s 3ms/step - loss: 0.3156 - accuracy: 0.9366\n",
      "Epoch 38/100\n",
      "14/14 [==============================] - 0s 3ms/step - loss: 0.2858 - accuracy: 0.9507\n",
      "Epoch 39/100\n",
      "14/14 [==============================] - 0s 3ms/step - loss: 0.2481 - accuracy: 0.9484\n",
      "Epoch 40/100\n",
      "14/14 [==============================] - 0s 3ms/step - loss: 0.2271 - accuracy: 0.9554\n",
      "Epoch 41/100\n",
      "14/14 [==============================] - 0s 3ms/step - loss: 0.2067 - accuracy: 0.9554\n",
      "Epoch 42/100\n",
      "14/14 [==============================] - 0s 3ms/step - loss: 0.2017 - accuracy: 0.9648\n",
      "Epoch 43/100\n",
      "14/14 [==============================] - 0s 3ms/step - loss: 0.1873 - accuracy: 0.9671\n",
      "Epoch 44/100\n",
      "14/14 [==============================] - 0s 3ms/step - loss: 0.1575 - accuracy: 0.9695\n",
      "Epoch 45/100\n",
      "14/14 [==============================] - 0s 3ms/step - loss: 0.1427 - accuracy: 0.9718\n",
      "Epoch 46/100\n",
      "14/14 [==============================] - 0s 3ms/step - loss: 0.1487 - accuracy: 0.9765\n",
      "Epoch 47/100\n",
      "14/14 [==============================] - 0s 3ms/step - loss: 0.1521 - accuracy: 0.9695\n",
      "Epoch 48/100\n",
      "14/14 [==============================] - 0s 3ms/step - loss: 0.1341 - accuracy: 0.9742\n",
      "Epoch 49/100\n",
      "14/14 [==============================] - 0s 3ms/step - loss: 0.1247 - accuracy: 0.9789\n",
      "Epoch 50/100\n",
      "14/14 [==============================] - 0s 3ms/step - loss: 0.1236 - accuracy: 0.9671\n",
      "Epoch 51/100\n",
      "14/14 [==============================] - 0s 3ms/step - loss: 0.1171 - accuracy: 0.9695\n",
      "Epoch 52/100\n",
      "14/14 [==============================] - 0s 3ms/step - loss: 0.1077 - accuracy: 0.9695\n",
      "Epoch 53/100\n",
      "14/14 [==============================] - 0s 3ms/step - loss: 0.1052 - accuracy: 0.9765\n",
      "Epoch 54/100\n",
      "14/14 [==============================] - 0s 3ms/step - loss: 0.1015 - accuracy: 0.9765\n",
      "Epoch 55/100\n",
      "14/14 [==============================] - 0s 3ms/step - loss: 0.1004 - accuracy: 0.9671\n",
      "Epoch 56/100\n",
      "14/14 [==============================] - 0s 3ms/step - loss: 0.1051 - accuracy: 0.9742\n",
      "Epoch 57/100\n",
      "14/14 [==============================] - 0s 3ms/step - loss: 0.1217 - accuracy: 0.9671\n",
      "Epoch 58/100\n",
      "14/14 [==============================] - 0s 3ms/step - loss: 0.0974 - accuracy: 0.9695\n",
      "Epoch 59/100\n",
      "14/14 [==============================] - 0s 3ms/step - loss: 0.0864 - accuracy: 0.9789\n",
      "Epoch 60/100\n",
      "14/14 [==============================] - 0s 3ms/step - loss: 0.0825 - accuracy: 0.9765\n",
      "Epoch 61/100\n",
      "14/14 [==============================] - 0s 3ms/step - loss: 0.0770 - accuracy: 0.9789\n",
      "Epoch 62/100\n",
      "14/14 [==============================] - 0s 3ms/step - loss: 0.0719 - accuracy: 0.9789\n",
      "Epoch 63/100\n",
      "14/14 [==============================] - 0s 3ms/step - loss: 0.0830 - accuracy: 0.9742\n",
      "Epoch 64/100\n",
      "14/14 [==============================] - 0s 3ms/step - loss: 0.0745 - accuracy: 0.9812\n",
      "Epoch 65/100\n",
      "14/14 [==============================] - 0s 3ms/step - loss: 0.0686 - accuracy: 0.9765\n",
      "Epoch 66/100\n",
      "14/14 [==============================] - 0s 3ms/step - loss: 0.0671 - accuracy: 0.9765\n",
      "Epoch 67/100\n",
      "14/14 [==============================] - 0s 3ms/step - loss: 0.0671 - accuracy: 0.9836\n",
      "Epoch 68/100\n",
      "14/14 [==============================] - 0s 3ms/step - loss: 0.0633 - accuracy: 0.9812\n",
      "Epoch 69/100\n",
      "14/14 [==============================] - 0s 3ms/step - loss: 0.0612 - accuracy: 0.9789\n",
      "Epoch 70/100\n",
      "14/14 [==============================] - 0s 3ms/step - loss: 0.0589 - accuracy: 0.9859\n",
      "Epoch 71/100\n",
      "14/14 [==============================] - 0s 3ms/step - loss: 0.0598 - accuracy: 0.9789\n",
      "Epoch 72/100\n",
      "14/14 [==============================] - 0s 3ms/step - loss: 0.0727 - accuracy: 0.9789\n",
      "Epoch 73/100\n",
      "14/14 [==============================] - 0s 3ms/step - loss: 0.0685 - accuracy: 0.9812\n",
      "Epoch 74/100\n",
      "14/14 [==============================] - 0s 3ms/step - loss: 0.0627 - accuracy: 0.9812\n",
      "Epoch 75/100\n",
      "14/14 [==============================] - 0s 3ms/step - loss: 0.0603 - accuracy: 0.9836\n",
      "Epoch 76/100\n",
      "14/14 [==============================] - 0s 3ms/step - loss: 0.0606 - accuracy: 0.9812\n",
      "Epoch 77/100\n",
      "14/14 [==============================] - 0s 3ms/step - loss: 0.0558 - accuracy: 0.9789\n",
      "Epoch 78/100\n",
      "14/14 [==============================] - 0s 3ms/step - loss: 0.0540 - accuracy: 0.9765\n",
      "Epoch 79/100\n",
      "14/14 [==============================] - 0s 3ms/step - loss: 0.0551 - accuracy: 0.9812\n",
      "Epoch 80/100\n",
      "14/14 [==============================] - 0s 3ms/step - loss: 0.0550 - accuracy: 0.9765\n",
      "Epoch 81/100\n",
      "14/14 [==============================] - 0s 3ms/step - loss: 0.0514 - accuracy: 0.9836\n",
      "Epoch 82/100\n",
      "14/14 [==============================] - 0s 3ms/step - loss: 0.0489 - accuracy: 0.9789\n",
      "Epoch 83/100\n"
     ]
    },
    {
     "name": "stdout",
     "output_type": "stream",
     "text": [
      "14/14 [==============================] - 0s 3ms/step - loss: 0.0534 - accuracy: 0.9765\n",
      "Epoch 84/100\n",
      "14/14 [==============================] - 0s 3ms/step - loss: 0.0510 - accuracy: 0.9836\n",
      "Epoch 85/100\n",
      "14/14 [==============================] - 0s 3ms/step - loss: 0.0474 - accuracy: 0.9812\n",
      "Epoch 86/100\n",
      "14/14 [==============================] - 0s 3ms/step - loss: 0.0484 - accuracy: 0.9812\n",
      "Epoch 87/100\n",
      "14/14 [==============================] - 0s 3ms/step - loss: 0.0464 - accuracy: 0.9812\n",
      "Epoch 88/100\n",
      "14/14 [==============================] - 0s 3ms/step - loss: 0.0467 - accuracy: 0.9812\n",
      "Epoch 89/100\n",
      "14/14 [==============================] - 0s 3ms/step - loss: 0.0459 - accuracy: 0.9812\n",
      "Epoch 90/100\n",
      "14/14 [==============================] - 0s 3ms/step - loss: 0.0437 - accuracy: 0.9836\n",
      "Epoch 91/100\n",
      "14/14 [==============================] - 0s 3ms/step - loss: 0.0458 - accuracy: 0.9812\n",
      "Epoch 92/100\n",
      "14/14 [==============================] - 0s 3ms/step - loss: 0.0471 - accuracy: 0.9859\n",
      "Epoch 93/100\n",
      "14/14 [==============================] - 0s 3ms/step - loss: 0.0454 - accuracy: 0.9836\n",
      "Epoch 94/100\n",
      "14/14 [==============================] - 0s 3ms/step - loss: 0.0498 - accuracy: 0.9765\n",
      "Epoch 95/100\n",
      "14/14 [==============================] - 0s 3ms/step - loss: 0.0480 - accuracy: 0.9812\n",
      "Epoch 96/100\n",
      "14/14 [==============================] - 0s 3ms/step - loss: 0.0495 - accuracy: 0.9789\n",
      "Epoch 97/100\n",
      "14/14 [==============================] - 0s 3ms/step - loss: 0.0663 - accuracy: 0.9789\n",
      "Epoch 98/100\n",
      "14/14 [==============================] - 0s 3ms/step - loss: 0.0670 - accuracy: 0.9789\n",
      "Epoch 99/100\n",
      "14/14 [==============================] - 0s 3ms/step - loss: 0.0525 - accuracy: 0.9789\n",
      "Epoch 100/100\n",
      "14/14 [==============================] - 0s 3ms/step - loss: 0.0477 - accuracy: 0.9789\n"
     ]
    },
    {
     "data": {
      "text/plain": [
       "<keras.callbacks.History at 0x7fd7f1b6b670>"
      ]
     },
     "execution_count": 45,
     "metadata": {},
     "output_type": "execute_result"
    }
   ],
   "source": [
    "from tensorflow.keras.models import Sequential\n",
    "from tensorflow.keras.layers import Dense, LSTM\n",
    "from tensorflow.keras.preprocessing.sequence import pad_sequences\n",
    "\n",
    "hidden_dim = 128\n",
    "num_epoch = 100\n",
    "\n",
    "model = Sequential()\n",
    "model.add(LSTM(hidden_dim,input_shape=(None,X_data.shape[2]),return_sequences = False))\n",
    "model.add(Dense(vocab_size,activation='softmax'))\n",
    "model.compile(loss='categorical_crossentropy',optimizer='adam',metrics=['accuracy'])\n",
    "model.fit(X_data,y_data,epochs=num_epoch,verbose=1)"
   ]
  },
  {
   "cell_type": "markdown",
   "id": "8e68bd6c",
   "metadata": {},
   "source": [
    "문장을 생성하는 함수 sentence_generation을 만들어서 문장을 생성해보자. 해당 함수는 문자열을 입력하면, 해당 문자열로부터 다음 문자를 예측하고 입력 문자열에 쌓아가는 것을 반복하여 최종적으로 문장을 완성한다."
   ]
  },
  {
   "cell_type": "code",
   "execution_count": 46,
   "id": "a6711a6e",
   "metadata": {},
   "outputs": [
    {
     "name": "stdout",
     "output_type": "stream",
     "text": [
      "I get on with life as a programmer, I like to contemplate beer. But when I start to daydre\n"
     ]
    }
   ],
   "source": [
    "def sentence_generation(model, char_to_index, seq_length, seed_text, n):\n",
    "\n",
    "    # 초기 시퀀스\n",
    "    init_text = seed_text\n",
    "    sentence = ''\n",
    "\n",
    "    # 다음 문자 예측은 총 n번만 반복.\n",
    "    for _ in range(n):\n",
    "        encoded = [char_to_index[char] for char in seed_text] # 현재 시퀀스에 대한 정수 인코딩\n",
    "        encoded = pad_sequences([encoded], maxlen=seq_length, padding='pre') # 데이터에 대한 패딩\n",
    "        encoded = to_categorical(encoded, num_classes=len(char_to_index))\n",
    "\n",
    "        # 입력한 X(현재 시퀀스)에 대해서 y를 예측하고 y(예측한 문자)를 result에 저장.\n",
    "        result = model.predict(encoded, verbose=0)\n",
    "        result = np.argmax(result, axis=1)\n",
    "\n",
    "        for char, index in char_to_index.items():\n",
    "            if index == result:\n",
    "                break\n",
    "\n",
    "        # 현재 시퀀스 + 예측 문자를 현재 시퀀스로 변경\n",
    "        seed_text = seed_text + char\n",
    "\n",
    "        # 예측 문자를 문장에 저장\n",
    "        sentence = sentence + char\n",
    "\n",
    "    # n번의 다음 문자 예측이 끝나면 최종 완성된 문장을 리턴.\n",
    "    sentence = init_text + sentence\n",
    "    return sentence\n",
    "\n",
    "print(sentence_generation(model, char_to_index, 10, 'I get on w', 80))"
   ]
  },
  {
   "cell_type": "markdown",
   "id": "52a822e1",
   "metadata": {},
   "source": [
    "ㅋㅋㅋ 뭔가 말이 될 것 같은 문장인데 조금 이상하네~ 어쨌든 뭔가 말이 되는 거 같은 문장을 만들어준다. 신기해~!!"
   ]
  }
 ],
 "metadata": {
  "kernelspec": {
   "display_name": "Python 3",
   "language": "python",
   "name": "python3"
  },
  "language_info": {
   "codemirror_mode": {
    "name": "ipython",
    "version": 3
   },
   "file_extension": ".py",
   "mimetype": "text/x-python",
   "name": "python",
   "nbconvert_exporter": "python",
   "pygments_lexer": "ipython3",
   "version": "3.8.10"
  }
 },
 "nbformat": 4,
 "nbformat_minor": 5
}
