{
 "cells": [
  {
   "cell_type": "markdown",
   "id": "7b5fe705",
   "metadata": {},
   "source": [
    "# 정확도(Accuracy)\n",
    "---\n",
    "\n",
    "정확도는 다음과 같은 계산으로 얻을 수 있다.\n",
    "\n",
    "$$\n",
    "정확도(Accuracy) = \\frac{예측\\;결과가\\;정답과\\;같은\\;데이터\\;수}{전체\\;데이터\\;수}\n",
    "$$\n"
   ]
  },
  {
   "cell_type": "markdown",
   "id": "eb3aa4b4",
   "metadata": {},
   "source": [
    "그러나 이진 분류의 경우 데이터에 따라 정확도로 평가하는 것은 ML 모델을 정확히 평가하는 것이 아닐 수 있다.\n",
    "\n",
    "그리고 만약 전체 데이터가 100개일 때, 클래스가 0 인 데이터가 1개, 클래스가 1인 데이터가 99개 있다면, 학습할 필요도 없이 그저 모두 클래스가 1이라고 판단하게되면 정확도가 99%가 된다. (극단적인 예지만..)\n",
    "\n",
    "**따라서 정확도는 특히 불균형한 클래스 데이터 세트에서 성능을 판단할 때 사용하면 안된다.**\n",
    "\n",
    "이런 한계점을 돌파하기 위해선 여러 가지 분류 지표를 함께 사용해야한다. 이제부터 한번 봐보자. \n",
    "<br/><br/>"
   ]
  },
  {
   "cell_type": "markdown",
   "id": "79e69a4d",
   "metadata": {},
   "source": [
    "# 오차 행렬(confusion matrix)\n",
    "---\n",
    "\n",
    "오차 행렬은 분류 모델이 예측을 수행하면서 얼마나 헷갈리고 있는지 보여주는 지표이다.\n",
    "\n",
    "![오차 행렬](/home/hyuntak/project/STUDY_AI/python/책_파이썬_머신러닝_완벽_가이드/CH3/images/오차행렬.png)\n"
   ]
  },
  {
   "cell_type": "code",
   "execution_count": null,
   "id": "893ff83d",
   "metadata": {},
   "outputs": [],
   "source": []
  }
 ],
 "metadata": {
  "kernelspec": {
   "display_name": "Python 3",
   "language": "python",
   "name": "python3"
  },
  "language_info": {
   "codemirror_mode": {
    "name": "ipython",
    "version": 3
   },
   "file_extension": ".py",
   "mimetype": "text/x-python",
   "name": "python",
   "nbconvert_exporter": "python",
   "pygments_lexer": "ipython3",
   "version": "3.8.10"
  }
 },
 "nbformat": 4,
 "nbformat_minor": 5
}
