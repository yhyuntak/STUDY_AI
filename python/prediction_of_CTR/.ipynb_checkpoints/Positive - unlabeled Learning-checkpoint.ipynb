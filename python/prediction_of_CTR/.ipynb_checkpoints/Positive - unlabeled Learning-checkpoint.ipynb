{
 "cells": [
  {
   "cell_type": "markdown",
   "id": "46e669be",
   "metadata": {},
   "source": [
    "# Positive - unlabeled Learning\n",
    "---\n",
    "\n",
    "본 글은 [Roy Wright님의 글](https://roywrightme.wordpress.com/2017/11/16/positive-unlabeled-learning/)을 해석하여 작성한 글이다.\n",
    "\n",
    "\n",
    "PU 학습에서 데이터셋은 2가지이다. \n",
    "* Positive로 라벨링된 데이터\n",
    "* 라벨링되어있지 않은 데이터\n",
    "\n",
    "이것은 supervised learning에서 긍정/부정으로 분류하는 문제라 생각하면 학습할 수 없지만, 분류라는 것은 결국 feature의 영역을 2개로 나누는 것이라 생각할 수 있다. \n",
    "\n",
    "[그림](https://roywrightme.files.wordpress.com/2017/11/pul.gif?w=1000)을 보자  \n",
    "\n",
    "semi-supervised learning에선 두 영역으로 나눈다고 생각하면 되는데, unlabeled 데이터가 추가되면서 그 영역이 나뉘는 방식 바뀌게 된다. 즉 unlabeled에 따라 우리의 decision boundary가 바뀌게 되는 것이다.\n",
    "\n",
    "\n",
    "## Some techniques for PU learning\n",
    "\n",
    "몇몇 학습 방법들에 대해 간략히 알아보자.\n",
    "\n",
    "### Direct application of a standard classifier\n",
    "\n",
    "가장 일반적인 것은 unlabeled를 그냥 negative로 처리해서 일반적인 supervised learning을 진행하는 것이다. 그리고 classifier는 positive 데이터들에 좀 더 가중치를 줘서 큰 score를 할당한다. 그렇게 되면 레이블이 지정되지 않은 데이터들 중에서 점수가 가장 높은 점이 양수일 가능성이 가장 높다. 이것을 설명한 [논문](https://cseweb.ucsd.edu/~elkan/posonly.pdf)도 존재한다. \n",
    "\n",
    "### PU bagging\n",
    "\n",
    "아래의 순서에 따라 학습을 한다\n",
    "\n",
    "1. 모든 양의 데이터 점을 레이블이 지정되지 않은 점의 랜덤 샘플과 결합하여 교육 세트를 만든다.\n",
    "2. 이 \"부트스트랩\" 샘플에서 분류기를 빌드하여 positive 데이터 지점과 unlabeled 데이터 지점을 각각 양의 데이터 지점과 음의 데이터 지점으로 처리한다.\n",
    "3. 분류기를 랜덤 샘플에 포함되지 않은 모든 데이터 포인트(OOB(Out of Bag) 포인트)에 적용하고 score를 기록한다.\n",
    "4. 위의 세 단계를 여러 번 반복하고 마지막으로 받은 OOB 점수의 평균을 각 지점에 할당한다.\n",
    "\n",
    "이것을 설명한 [논문](https://members.cbio.mines-paristech.fr/~jvert/svn/bibli/local/Mordelet2013bagging.pdf)도 존재한다. \n",
    "\n",
    "그외 에 더 있는데, 일단 보류한다."
   ]
  },
  {
   "cell_type": "code",
   "execution_count": null,
   "id": "9e5b088d",
   "metadata": {},
   "outputs": [],
   "source": []
  }
 ],
 "metadata": {
  "kernelspec": {
   "display_name": "Python 3 (ipykernel)",
   "language": "python",
   "name": "python3"
  },
  "language_info": {
   "codemirror_mode": {
    "name": "ipython",
    "version": 3
   },
   "file_extension": ".py",
   "mimetype": "text/x-python",
   "name": "python",
   "nbconvert_exporter": "python",
   "pygments_lexer": "ipython3",
   "version": "3.10.5"
  }
 },
 "nbformat": 4,
 "nbformat_minor": 5
}
