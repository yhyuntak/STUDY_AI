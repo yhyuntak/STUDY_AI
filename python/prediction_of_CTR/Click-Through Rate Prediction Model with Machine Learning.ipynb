{
 "cells": [
  {
   "cell_type": "markdown",
   "id": "71165f47",
   "metadata": {},
   "source": [
    "# Click-Through Rate Prediction Model with Machine Learning\n",
    "---\n",
    "\n",
    "본 글은 [AMAN KHARWAL님의 글](https://thecleverprogrammer.com/2021/01/24/click-through-rate-prediction-with-machine-learning/)을 보고 실습해본 것이다.\n",
    "\n",
    "광고 회사는 CTR을 예측하여 광고에 응답할 가능성이 가장 높은 방문자들을 선택하고, 검색 기록을 분석하고 유저의 관심사에 따라 가장 관련된 광고들을 보여준다. \n",
    "\n",
    "이 일은 모든 광고 에이전시에게 중요하다. 왜냐하면 인터넷 상의 프로모션들의 상업적 가치는 오직 사용자가 광고에 얼마나 반응하냐에 달려있기 때문이다. 광고에 대한 유저의 반응은 모든 광고 회사에게 매우 가치있다. 왜냐하면, 이것이 회사가 유저에게 가장 관련있는 광고를 선택할 수 있게 해주기 때문이다. \n",
    "\n",
    "이제 간단하게 파이썬을 이용한 머신러닝으로 CTR 예측을 위한 모델을 어떻게 만드는지 봐보자. \n",
    "\n",
    "먼저 데이터 셋을 불러오자. 저자의 데이터 다운로드 버튼이 작동하지 않아서, 나는 캐글의 [다운로드 링크](https://www.kaggle.com/datasets/gauravduttakiit/clickthrough-rate-prediction?resource=download)에서 따로 받았다. \n"
   ]
  },
  {
   "cell_type": "code",
   "execution_count": 4,
   "id": "57c2d32b",
   "metadata": {},
   "outputs": [
    {
     "data": {
      "text/html": [
       "<div>\n",
       "<style scoped>\n",
       "    .dataframe tbody tr th:only-of-type {\n",
       "        vertical-align: middle;\n",
       "    }\n",
       "\n",
       "    .dataframe tbody tr th {\n",
       "        vertical-align: top;\n",
       "    }\n",
       "\n",
       "    .dataframe thead th {\n",
       "        text-align: right;\n",
       "    }\n",
       "</style>\n",
       "<table border=\"1\" class=\"dataframe\">\n",
       "  <thead>\n",
       "    <tr style=\"text-align: right;\">\n",
       "      <th></th>\n",
       "      <th>Daily Time Spent on Site</th>\n",
       "      <th>Age</th>\n",
       "      <th>Area Income</th>\n",
       "      <th>Daily Internet Usage</th>\n",
       "      <th>Ad Topic Line</th>\n",
       "      <th>City</th>\n",
       "      <th>Gender</th>\n",
       "      <th>Country</th>\n",
       "      <th>Timestamp</th>\n",
       "      <th>Clicked on Ad</th>\n",
       "    </tr>\n",
       "  </thead>\n",
       "  <tbody>\n",
       "    <tr>\n",
       "      <th>0</th>\n",
       "      <td>62.26</td>\n",
       "      <td>32.0</td>\n",
       "      <td>69481.85</td>\n",
       "      <td>172.83</td>\n",
       "      <td>Decentralized real-time circuit</td>\n",
       "      <td>Lisafort</td>\n",
       "      <td>Male</td>\n",
       "      <td>Svalbard &amp; Jan Mayen Islands</td>\n",
       "      <td>2016-06-09 21:43:05</td>\n",
       "      <td>0</td>\n",
       "    </tr>\n",
       "    <tr>\n",
       "      <th>1</th>\n",
       "      <td>41.73</td>\n",
       "      <td>31.0</td>\n",
       "      <td>61840.26</td>\n",
       "      <td>207.17</td>\n",
       "      <td>Optional full-range projection</td>\n",
       "      <td>West Angelabury</td>\n",
       "      <td>Male</td>\n",
       "      <td>Singapore</td>\n",
       "      <td>2016-01-16 17:56:05</td>\n",
       "      <td>0</td>\n",
       "    </tr>\n",
       "    <tr>\n",
       "      <th>2</th>\n",
       "      <td>44.40</td>\n",
       "      <td>30.0</td>\n",
       "      <td>57877.15</td>\n",
       "      <td>172.83</td>\n",
       "      <td>Total 5thgeneration standardization</td>\n",
       "      <td>Reyesfurt</td>\n",
       "      <td>Female</td>\n",
       "      <td>Guadeloupe</td>\n",
       "      <td>2016-06-29 10:50:45</td>\n",
       "      <td>0</td>\n",
       "    </tr>\n",
       "    <tr>\n",
       "      <th>3</th>\n",
       "      <td>59.88</td>\n",
       "      <td>28.0</td>\n",
       "      <td>56180.93</td>\n",
       "      <td>207.17</td>\n",
       "      <td>Balanced empowering success</td>\n",
       "      <td>New Michael</td>\n",
       "      <td>Female</td>\n",
       "      <td>Zambia</td>\n",
       "      <td>2016-06-21 14:32:32</td>\n",
       "      <td>0</td>\n",
       "    </tr>\n",
       "    <tr>\n",
       "      <th>4</th>\n",
       "      <td>49.21</td>\n",
       "      <td>30.0</td>\n",
       "      <td>54324.73</td>\n",
       "      <td>201.58</td>\n",
       "      <td>Total 5thgeneration standardization</td>\n",
       "      <td>West Richard</td>\n",
       "      <td>Female</td>\n",
       "      <td>Qatar</td>\n",
       "      <td>2016-07-21 10:54:35</td>\n",
       "      <td>1</td>\n",
       "    </tr>\n",
       "  </tbody>\n",
       "</table>\n",
       "</div>"
      ],
      "text/plain": [
       "   Daily Time Spent on Site   Age  Area Income  Daily Internet Usage  \\\n",
       "0                     62.26  32.0     69481.85                172.83   \n",
       "1                     41.73  31.0     61840.26                207.17   \n",
       "2                     44.40  30.0     57877.15                172.83   \n",
       "3                     59.88  28.0     56180.93                207.17   \n",
       "4                     49.21  30.0     54324.73                201.58   \n",
       "\n",
       "                         Ad Topic Line             City  Gender  \\\n",
       "0      Decentralized real-time circuit         Lisafort    Male   \n",
       "1       Optional full-range projection  West Angelabury    Male   \n",
       "2  Total 5thgeneration standardization        Reyesfurt  Female   \n",
       "3          Balanced empowering success      New Michael  Female   \n",
       "4  Total 5thgeneration standardization     West Richard  Female   \n",
       "\n",
       "                        Country            Timestamp  Clicked on Ad  \n",
       "0  Svalbard & Jan Mayen Islands  2016-06-09 21:43:05              0  \n",
       "1                     Singapore  2016-01-16 17:56:05              0  \n",
       "2                    Guadeloupe  2016-06-29 10:50:45              0  \n",
       "3                        Zambia  2016-06-21 14:32:32              0  \n",
       "4                         Qatar  2016-07-21 10:54:35              1  "
      ]
     },
     "execution_count": 4,
     "metadata": {},
     "output_type": "execute_result"
    }
   ],
   "source": [
    "import pandas as pd\n",
    "data = pd.read_csv('archive/ad_10000records.csv')\n",
    "data.head(5)"
   ]
  },
  {
   "cell_type": "markdown",
   "id": "88402f83",
   "metadata": {},
   "source": [
    "null 값이 있는지 확인하자. isnull()을 하면 모든 데이터들에 대해 null인지 아닌지를 파악해준다. 그리고 False는 0이기 때문에, sum()을 이용해서 null 값의 개수를 확인할 수 있다."
   ]
  },
  {
   "cell_type": "code",
   "execution_count": 7,
   "id": "9fc8c66b",
   "metadata": {},
   "outputs": [
    {
     "data": {
      "text/plain": [
       "Daily Time Spent on Site    0\n",
       "Age                         0\n",
       "Area Income                 0\n",
       "Daily Internet Usage        0\n",
       "Ad Topic Line               0\n",
       "City                        0\n",
       "Gender                      0\n",
       "Country                     0\n",
       "Timestamp                   0\n",
       "Clicked on Ad               0\n",
       "dtype: int64"
      ]
     },
     "execution_count": 7,
     "metadata": {},
     "output_type": "execute_result"
    }
   ],
   "source": [
    "data.isnull().sum() "
   ]
  },
  {
   "cell_type": "markdown",
   "id": "cf328e64",
   "metadata": {},
   "source": [
    "null 값이 하나도 존재하지 않는다! \n",
    "\n",
    "이제 머신러닝 모델에 적용하기 위해서, 다음의 필요한 feature들만 남기고 나머지는 제거하자. \n",
    "\n",
    "* Daily Time Spent on Site\t\n",
    "* Age\t\n",
    "* Area Income\t\n",
    "* Daily Internet Usage\t\n",
    "* Gender\n",
    "\n",
    "그리고 Gender에서 Male을 0으로, Female을 1로 바꿔주자."
   ]
  },
  {
   "cell_type": "code",
   "execution_count": 24,
   "id": "505caf88",
   "metadata": {},
   "outputs": [
    {
     "data": {
      "text/html": [
       "<div>\n",
       "<style scoped>\n",
       "    .dataframe tbody tr th:only-of-type {\n",
       "        vertical-align: middle;\n",
       "    }\n",
       "\n",
       "    .dataframe tbody tr th {\n",
       "        vertical-align: top;\n",
       "    }\n",
       "\n",
       "    .dataframe thead th {\n",
       "        text-align: right;\n",
       "    }\n",
       "</style>\n",
       "<table border=\"1\" class=\"dataframe\">\n",
       "  <thead>\n",
       "    <tr style=\"text-align: right;\">\n",
       "      <th></th>\n",
       "      <th>Daily Time Spent on Site</th>\n",
       "      <th>Age</th>\n",
       "      <th>Area Income</th>\n",
       "      <th>Daily Internet Usage</th>\n",
       "      <th>Gender</th>\n",
       "    </tr>\n",
       "  </thead>\n",
       "  <tbody>\n",
       "    <tr>\n",
       "      <th>0</th>\n",
       "      <td>62.26</td>\n",
       "      <td>32.0</td>\n",
       "      <td>69481.85</td>\n",
       "      <td>172.83</td>\n",
       "      <td>0</td>\n",
       "    </tr>\n",
       "    <tr>\n",
       "      <th>1</th>\n",
       "      <td>41.73</td>\n",
       "      <td>31.0</td>\n",
       "      <td>61840.26</td>\n",
       "      <td>207.17</td>\n",
       "      <td>0</td>\n",
       "    </tr>\n",
       "    <tr>\n",
       "      <th>2</th>\n",
       "      <td>44.40</td>\n",
       "      <td>30.0</td>\n",
       "      <td>57877.15</td>\n",
       "      <td>172.83</td>\n",
       "      <td>1</td>\n",
       "    </tr>\n",
       "    <tr>\n",
       "      <th>3</th>\n",
       "      <td>59.88</td>\n",
       "      <td>28.0</td>\n",
       "      <td>56180.93</td>\n",
       "      <td>207.17</td>\n",
       "      <td>1</td>\n",
       "    </tr>\n",
       "    <tr>\n",
       "      <th>4</th>\n",
       "      <td>49.21</td>\n",
       "      <td>30.0</td>\n",
       "      <td>54324.73</td>\n",
       "      <td>201.58</td>\n",
       "      <td>1</td>\n",
       "    </tr>\n",
       "  </tbody>\n",
       "</table>\n",
       "</div>"
      ],
      "text/plain": [
       "   Daily Time Spent on Site   Age  Area Income  Daily Internet Usage  Gender\n",
       "0                     62.26  32.0     69481.85                172.83       0\n",
       "1                     41.73  31.0     61840.26                207.17       0\n",
       "2                     44.40  30.0     57877.15                172.83       1\n",
       "3                     59.88  28.0     56180.93                207.17       1\n",
       "4                     49.21  30.0     54324.73                201.58       1"
      ]
     },
     "execution_count": 24,
     "metadata": {},
     "output_type": "execute_result"
    }
   ],
   "source": [
    "x = data.iloc[:,0:7]\n",
    "x = x.drop(['Ad Topic Line','City'],axis=1)\n",
    "x = x.replace({'Gender' : 'Male'}, 0)\n",
    "x = x.replace({'Gender' : 'Female'}, 1)\n",
    "x.head()"
   ]
  },
  {
   "cell_type": "markdown",
   "id": "8afe2287",
   "metadata": {},
   "source": [
    "target으로 **\"Clicked on Ad\"**를 사용하자. 광고를 클릭 했는지(True) 안했는지(False)에 대한 bool인것 같다."
   ]
  },
  {
   "cell_type": "code",
   "execution_count": 25,
   "id": "61e0048d",
   "metadata": {},
   "outputs": [
    {
     "data": {
      "text/plain": [
       "0    0\n",
       "1    0\n",
       "2    0\n",
       "3    0\n",
       "4    1\n",
       "Name: Clicked on Ad, dtype: int64"
      ]
     },
     "execution_count": 25,
     "metadata": {},
     "output_type": "execute_result"
    }
   ],
   "source": [
    "y = data.iloc[:,9]\n",
    "y.head()"
   ]
  },
  {
   "cell_type": "markdown",
   "id": "3d05f562",
   "metadata": {},
   "source": [
    "이제 학습과 테스트를 위해서 7:3 으로 데이터 셋을 나눠주자."
   ]
  },
  {
   "cell_type": "code",
   "execution_count": 26,
   "id": "894ce751",
   "metadata": {},
   "outputs": [
    {
     "name": "stdout",
     "output_type": "stream",
     "text": [
      "(7000, 5)\n",
      "(7000,)\n",
      "(3000, 5)\n",
      "(3000,)\n"
     ]
    }
   ],
   "source": [
    "from sklearn.model_selection import train_test_split\n",
    "x_train,x_test,y_train,y_test=train_test_split(x,y,test_size=0.3,random_state=4)\n",
    "print(x_train.shape)\n",
    "print(y_train.shape)\n",
    "print(x_test.shape)\n",
    "print(y_test.shape)"
   ]
  },
  {
   "cell_type": "markdown",
   "id": "5966a162",
   "metadata": {},
   "source": [
    "## Logistic Regression Model\n",
    "\n",
    "이제 로지스틱 회귀 모델을 사용해서 유저들의 CTR을 예측해보자. "
   ]
  },
  {
   "cell_type": "code",
   "execution_count": 29,
   "id": "d4a2a0bd",
   "metadata": {},
   "outputs": [
    {
     "name": "stdout",
     "output_type": "stream",
     "text": [
      "추론 결과 :  [1 1 1 ... 1 0 0]\n"
     ]
    }
   ],
   "source": [
    "from sklearn.linear_model import LogisticRegression\n",
    "\n",
    "# 로지스틱 회귀 모델 생성\n",
    "Lr=LogisticRegression(C=0.01,random_state=0)\n",
    "\n",
    "# 학습\n",
    "Lr.fit(x_train,y_train)\n",
    "\n",
    "# 추론\n",
    "y_pred=Lr.predict(x_test)\n",
    "print(\"추론 결과 : \",y_pred)"
   ]
  },
  {
   "cell_type": "markdown",
   "id": "8ffadfe3",
   "metadata": {},
   "source": [
    "추론 확률을 predict_proba 메서드로 확인해보자."
   ]
  },
  {
   "cell_type": "code",
   "execution_count": 30,
   "id": "5c84652a",
   "metadata": {},
   "outputs": [
    {
     "name": "stdout",
     "output_type": "stream",
     "text": [
      "클래스 추론 확률 :  [[0.25450752 0.74549248]\n",
      " [0.38997928 0.61002072]\n",
      " [0.49597281 0.50402719]\n",
      " ...\n",
      " [0.10962091 0.89037909]\n",
      " [0.74725049 0.25274951]\n",
      " [0.53100259 0.46899741]]\n"
     ]
    }
   ],
   "source": [
    "y_pred_proba=Lr.predict_proba(x_test)\n",
    "print(\"클래스 추론 확률 : \", y_pred_proba)"
   ]
  },
  {
   "cell_type": "markdown",
   "id": "c2f720b1",
   "metadata": {},
   "source": [
    "이제 accuracy_score를 통해 정확도를 한번 살펴보자."
   ]
  },
  {
   "cell_type": "code",
   "execution_count": 31,
   "id": "a7c5233f",
   "metadata": {},
   "outputs": [
    {
     "name": "stdout",
     "output_type": "stream",
     "text": [
      "0.6786666666666666\n"
     ]
    }
   ],
   "source": [
    "from sklearn.metrics import accuracy_score\n",
    "print(accuracy_score(y_test,y_pred))"
   ]
  },
  {
   "cell_type": "markdown",
   "id": "0d8ea99f",
   "metadata": {},
   "source": [
    "데이터가 적어서 그런지 정확도가 굉장히 낮다.\n",
    "\n",
    "사실 accuracy_score보단 좀 더 좋은 평가지표를 생각해야한다. 정밀도와 재현율의 trade-off를 고려한 F1 score를 사용해보자."
   ]
  },
  {
   "cell_type": "code",
   "execution_count": 35,
   "id": "a1dfc411",
   "metadata": {},
   "outputs": [
    {
     "name": "stdout",
     "output_type": "stream",
     "text": [
      "0.6698630136986302\n"
     ]
    }
   ],
   "source": [
    "from sklearn.metrics import f1_score\n",
    "print(f1_score(y_test,y_pred))"
   ]
  },
  {
   "cell_type": "markdown",
   "id": "73e0d034",
   "metadata": {},
   "source": [
    "# 후기\n",
    "---\n",
    "\n",
    "논문을 읽으면서 로지스틱 회귀 예측에 대한 얘기를 읽어서.. 뭐지?? 이게 왜 사용되지?? 싶었다. \n",
    "\n",
    "그래서 인터넷을 검색해서 CTR이 어떤 느낌으로 돌아가는지 간단한 예제를 돌려보게 되었다. 이건 아주 간단한 예지만 ㅎㅎ..\n",
    "그냥 feature들을 이용해서 회귀 예측을 하는 것이다. 여기서 로지스틱 회귀로 0과 1의 확률을 연속적인 값으로 출력할 수 있기 때문에, 0과 1이 discrete한 값이더라도 회귀 예측을 활용할 수 있다..\n",
    "\n",
    "## 번외 \n",
    "\n",
    "근데 갑자기 궁금해진게, softmax는 logistic 에서 발전한 것으로 알고 있다. 그럼 엄연히 숫자를 구분하는 문제는 마지막 단에 softmax layer를 사용하는데.. 이건 softmax를 사용했으니 회귀 예측이라고 볼 수 있는 걸까?? 싶네"
   ]
  },
  {
   "cell_type": "code",
   "execution_count": null,
   "id": "bb64003d",
   "metadata": {},
   "outputs": [],
   "source": []
  }
 ],
 "metadata": {
  "kernelspec": {
   "display_name": "Python 3 (ipykernel)",
   "language": "python",
   "name": "python3"
  },
  "language_info": {
   "codemirror_mode": {
    "name": "ipython",
    "version": 3
   },
   "file_extension": ".py",
   "mimetype": "text/x-python",
   "name": "python",
   "nbconvert_exporter": "python",
   "pygments_lexer": "ipython3",
   "version": "3.10.5"
  }
 },
 "nbformat": 4,
 "nbformat_minor": 5
}
